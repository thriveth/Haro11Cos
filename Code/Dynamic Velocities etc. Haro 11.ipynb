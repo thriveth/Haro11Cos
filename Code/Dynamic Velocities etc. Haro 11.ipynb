{
 "cells": [
  {
   "cell_type": "code",
   "execution_count": 15,
   "metadata": {
    "collapsed": false
   },
   "outputs": [],
   "source": [
    "import cospaper as cosp\n",
    "import DynVel as dv\n",
    "import numpy as np\n",
    "import scipy as sp\n",
    "import pandas as pd\n",
    "import matplotlib.pyplot as plt\n",
    "reload(dv)\n",
    "plt.rc('text', usetex=True)\n",
    "vfdl = pd.read_pickle('../Products/vflis.pickle')\n",
    "vfdh = pd.read_pickle('../Products/vfhis.pickle')"
   ]
  },
  {
   "cell_type": "code",
   "execution_count": 6,
   "metadata": {
    "collapsed": false
   },
   "outputs": [],
   "source": [
    "lisv = vfdl[1]\n",
    "hisv = vfdh[1]\n",
    "# Because only optically thick in Si II 1260:\n",
    "lisv.MeanProfile = lisv.Si_II_1260_Flam\n",
    "lisv.MeanErrors = lisv.Si_II_1260_Stddev"
   ]
  },
  {
   "cell_type": "code",
   "execution_count": 16,
   "metadata": {
    "collapsed": true
   },
   "outputs": [],
   "source": [
    "def randomize(indata, rng=None):\n",
    "    \"\"\"Creates a fake dataset by adding a random sample from a gaussian \n",
    "    modelled over the actual error distribution to the original data.\n",
    "    Use result for monte carlo error determination.\n",
    "    rng: array-like\n",
    "         a list,  tuple or array of (min, max) of the velocity interval \n",
    "         in which to sample the errors.\n",
    "    \"\"\"\n",
    "    # For convenience\n",
    "    data = indata.MeanProfile\n",
    "    errs = indata.MeanErrors\n",
    "    if rng is None:\n",
    "        rng = [indata.Velocity.min(), indata.Velocity.max()]\n",
    "    errs = errs[indata.Velocity.between(rng[0], rng[1])]\n",
    "    # Find distribution of the errors.\n",
    "    errmean = errs.mean()\n",
    "    errdev = errs.std()\n",
    "    # Draw random sample from error distribution\n",
    "    newerrs = sp.random.normal(errmean, errdev, data.shape[0])\n",
    "    # Draw random sequence of +/-\n",
    "    signs = sp.around(sp.random.random(data.shape[0]))\n",
    "    signs[signs==0] = -1\n",
    "    # Add or subtract,  randomly chosen, the errrors from/to the measurements\n",
    "    newerrs *= signs\n",
    "    indata.MeanErrors = newerrs\n",
    "    indata.MeanProfile += newerrs\n",
    "    #indata = indata[indata.Velocity.between(rng[0], rng[1])]\n",
    "    #print rng\n",
    "    return indata\n",
    "\n",
    "\n",
    "\n",
    "def get_ranges(indata):\n",
    "    spedata = indata.MeanProfile\n",
    "    wl = indata.Velocity\n",
    "    fig = plt.figure()  # figsize=(3.4, 3.4), dpi=160)\n",
    "    ax = plt.subplot(111)\n",
    "    exes = []\n",
    "    plt.plot(wl, spedata, 'black', drawstyle='steps-mid')\n",
    "    plt.axis((-800, 800, -.1, 1.4))\n",
    "    plt.axhline(y=1., linestyle='--', color='k')\n",
    "    plt.annotate(r'''Mark piece of left continuum, beginning and end of line, \\\\\n",
    "                 and piece of right continuum, 6 clicks in total''',\n",
    "                 (.5, .9), xycoords='axes fraction',\n",
    "                 ha='center')\n",
    "    #cid = fig.canvas.mpl_connect('button_press_event', onclick)\n",
    "    #plt.show()\n",
    "    exes = plt.ginput(6)\n",
    "    plt.close()\n",
    "    #import pdb; pdb.set_trace() ### XXX BREAKPOINT\n",
    "    #plt.show()\n",
    "    # print exes\n",
    "    leftexes = np.asarray(exes[0:2])[:, 0]\n",
    "    riteexes = np.asarray(exes[4:6])[:, 0]\n",
    "    # print 'riteexes', riteexes\n",
    "    lineexes = np.asarray(exes[2:4])[:, 0]\n",
    "    exesarr = np.array([leftexes, lineexes, riteexes])\n",
    "    return exesarr\n",
    "    \n",
    "def DVMC(indata, ranges=None, iterations=500):\n",
    "    import sys\n",
    "    if ranges is not None:\n",
    "        rng = [ranges[1, 0], ranges[1, 1]]\n",
    "    else:\n",
    "        ranges = get_ranges(indata)\n",
    "        rng = [ranges[1, 0], ranges[1, 1]]\n",
    "    #data = indata.MeanProfile\n",
    "    #errs = indata.MeanErrors\n",
    "    # Real values:\n",
    "    dvdict = dv.dynvel(indata, ranges=ranges, plot=True)\n",
    "    # Errors:\n",
    "    errsdict = {i: [] for i in dvdict.keys()}\n",
    "    count = 0\n",
    "    for j in range(iterations):\n",
    "        sys.stdout.write(\"\\rIteration:  {}, II0min = {}\".format(j, dvdict['I/I0_min']))\n",
    "        sys.stdout.flush()\n",
    "        mcdata = indata.copy()\n",
    "        mcdata = randomize(mcdata, rng=rng)\n",
    "        # Because some configurations with large errors break down also make the code break down.\n",
    "        # This is kinda cheating, but shouldn't be too much. Only discards configurations oof too \n",
    "        try: \n",
    "            mcdict = dv.dynvel(mcdata, ranges=ranges, plot=False)\n",
    "        except:\n",
    "            print('Iteration {} failed'.format(j))\n",
    "            continue\n",
    "        count += 1\n",
    "        #print('{}'.format(mcdict))\n",
    "        for j in mcdict.keys():\n",
    "            errsdict[j].append(mcdict[j])\n",
    "    errframe = pd.DataFrame.from_dict(errsdict)\n",
    "    for quant in errframe.columns:\n",
    "        err = errframe[quant].std()\n",
    "        dvdict[quant+'_Std'] = err\n",
    "    dvdict['count'] = count\n",
    "    return dvdict, errframe#, errsdict"
   ]
  },
  {
   "cell_type": "code",
   "execution_count": 17,
   "metadata": {
    "collapsed": false
   },
   "outputs": [
    {
     "name": "stdout",
     "output_type": "stream",
     "text": [
      "Iteration:  999, II0min = 0.352843549235"
     ]
    }
   ],
   "source": [
    "reload(cosp)\n",
    "reload(dv)\n",
    "velsdf = {}\n",
    "#ranges = get_ranges(vfd[6])\n",
    "\n",
    "ranges = get_ranges(lisv)\n",
    "itr = 1000\n",
    "dvdict, errframe = DVMC(lisv, ranges=ranges, iterations=itr)\n",
    "#velsdf[galaxy] = dvdict"
   ]
  },
  {
   "cell_type": "code",
   "execution_count": 18,
   "metadata": {
    "collapsed": false
   },
   "outputs": [
    {
     "data": {
      "text/html": [
       "<div>\n",
       "<table border=\"1\" class=\"dataframe\">\n",
       "  <thead>\n",
       "    <tr style=\"text-align: right;\">\n",
       "      <th></th>\n",
       "      <th>H11C LIS</th>\n",
       "    </tr>\n",
       "  </thead>\n",
       "  <tbody>\n",
       "    <tr>\n",
       "      <th>I/I0_0</th>\n",
       "      <td>0.537561</td>\n",
       "    </tr>\n",
       "    <tr>\n",
       "      <th>delta_v_Std</th>\n",
       "      <td>15.404860</td>\n",
       "    </tr>\n",
       "    <tr>\n",
       "      <th>count</th>\n",
       "      <td>1000.000000</td>\n",
       "    </tr>\n",
       "    <tr>\n",
       "      <th>delta_v</th>\n",
       "      <td>480.343273</td>\n",
       "    </tr>\n",
       "    <tr>\n",
       "      <th>v_min_Std</th>\n",
       "      <td>33.166626</td>\n",
       "    </tr>\n",
       "    <tr>\n",
       "      <th>v_int</th>\n",
       "      <td>-148.596561</td>\n",
       "    </tr>\n",
       "    <tr>\n",
       "      <th>I/I0_min</th>\n",
       "      <td>0.352844</td>\n",
       "    </tr>\n",
       "    <tr>\n",
       "      <th>v_95_Std</th>\n",
       "      <td>12.492482</td>\n",
       "    </tr>\n",
       "    <tr>\n",
       "      <th>I/I0_min_Std</th>\n",
       "      <td>0.018607</td>\n",
       "    </tr>\n",
       "    <tr>\n",
       "      <th>I/I0_0_Std</th>\n",
       "      <td>0.037000</td>\n",
       "    </tr>\n",
       "    <tr>\n",
       "      <th>v_95</th>\n",
       "      <td>-420.621149</td>\n",
       "    </tr>\n",
       "    <tr>\n",
       "      <th>v_min</th>\n",
       "      <td>-72.786365</td>\n",
       "    </tr>\n",
       "    <tr>\n",
       "      <th>v_int_Std</th>\n",
       "      <td>6.554798</td>\n",
       "    </tr>\n",
       "  </tbody>\n",
       "</table>\n",
       "</div>"
      ],
      "text/plain": [
       "                 H11C LIS\n",
       "I/I0_0           0.537561\n",
       "delta_v_Std     15.404860\n",
       "count         1000.000000\n",
       "delta_v        480.343273\n",
       "v_min_Std       33.166626\n",
       "v_int         -148.596561\n",
       "I/I0_min         0.352844\n",
       "v_95_Std        12.492482\n",
       "I/I0_min_Std     0.018607\n",
       "I/I0_0_Std       0.037000\n",
       "v_95          -420.621149\n",
       "v_min          -72.786365\n",
       "v_int_Std        6.554798"
      ]
     },
     "execution_count": 18,
     "metadata": {},
     "output_type": "execute_result"
    }
   ],
   "source": [
    "lisvels = pd.DataFrame.from_dict(dvdict, orient='index')\n",
    "lisvels.columns = ['H11C LIS']\n",
    "lisvels"
   ]
  },
  {
   "cell_type": "code",
   "execution_count": 9,
   "metadata": {
    "collapsed": false
   },
   "outputs": [
    {
     "name": "stdout",
     "output_type": "stream",
     "text": [
      "Iteration:  999, II0min = 0.150584243952"
     ]
    },
    {
     "data": {
      "text/html": [
       "<div>\n",
       "<table border=\"1\" class=\"dataframe\">\n",
       "  <thead>\n",
       "    <tr style=\"text-align: right;\">\n",
       "      <th></th>\n",
       "      <th>H11C HIS</th>\n",
       "    </tr>\n",
       "  </thead>\n",
       "  <tbody>\n",
       "    <tr>\n",
       "      <th>I/I0_0</th>\n",
       "      <td>0.312360</td>\n",
       "    </tr>\n",
       "    <tr>\n",
       "      <th>delta_v_Std</th>\n",
       "      <td>71.508067</td>\n",
       "    </tr>\n",
       "    <tr>\n",
       "      <th>count</th>\n",
       "      <td>1000.000000</td>\n",
       "    </tr>\n",
       "    <tr>\n",
       "      <th>delta_v</th>\n",
       "      <td>820.180187</td>\n",
       "    </tr>\n",
       "    <tr>\n",
       "      <th>v_min_Std</th>\n",
       "      <td>44.009739</td>\n",
       "    </tr>\n",
       "    <tr>\n",
       "      <th>v_int</th>\n",
       "      <td>-149.989310</td>\n",
       "    </tr>\n",
       "    <tr>\n",
       "      <th>I/I0_min</th>\n",
       "      <td>0.150584</td>\n",
       "    </tr>\n",
       "    <tr>\n",
       "      <th>v_95_Std</th>\n",
       "      <td>70.642351</td>\n",
       "    </tr>\n",
       "    <tr>\n",
       "      <th>I/I0_min_Std</th>\n",
       "      <td>0.023159</td>\n",
       "    </tr>\n",
       "    <tr>\n",
       "      <th>I/I0_0_Std</th>\n",
       "      <td>0.104911</td>\n",
       "    </tr>\n",
       "    <tr>\n",
       "      <th>v_95</th>\n",
       "      <td>-687.867129</td>\n",
       "    </tr>\n",
       "    <tr>\n",
       "      <th>v_min</th>\n",
       "      <td>-84.338312</td>\n",
       "    </tr>\n",
       "    <tr>\n",
       "      <th>v_int_Std</th>\n",
       "      <td>18.870107</td>\n",
       "    </tr>\n",
       "  </tbody>\n",
       "</table>\n",
       "</div>"
      ],
      "text/plain": [
       "                 H11C HIS\n",
       "I/I0_0           0.312360\n",
       "delta_v_Std     71.508067\n",
       "count         1000.000000\n",
       "delta_v        820.180187\n",
       "v_min_Std       44.009739\n",
       "v_int         -149.989310\n",
       "I/I0_min         0.150584\n",
       "v_95_Std        70.642351\n",
       "I/I0_min_Std     0.023159\n",
       "I/I0_0_Std       0.104911\n",
       "v_95          -687.867129\n",
       "v_min          -84.338312\n",
       "v_int_Std       18.870107"
      ]
     },
     "execution_count": 9,
     "metadata": {},
     "output_type": "execute_result"
    }
   ],
   "source": [
    "velsdf = {}\n",
    "#ranges = get_ranges(vfd[6])\n",
    "\n",
    "ranges = get_ranges(hisv)\n",
    "itr = 1000\n",
    "dvdict, errframe = DVMC(hisv, ranges=ranges, iterations=itr)\n",
    "#velsdf[galaxy] = dvdict\n",
    "hisvels = pd.DataFrame.from_dict(dvdict, orient='index')\n",
    "hisvels.columns = ['H11C HIS']\n",
    "hisvels"
   ]
  },
  {
   "cell_type": "code",
   "execution_count": 12,
   "metadata": {
    "collapsed": false
   },
   "outputs": [],
   "source": [
    "(1. - lisv.Si_II_CovFrac_map).plot()\n",
    "plt.show()"
   ]
  },
  {
   "cell_type": "code",
   "execution_count": null,
   "metadata": {
    "collapsed": true
   },
   "outputs": [],
   "source": [
    "dv."
   ]
  }
 ],
 "metadata": {
  "kernelspec": {
   "display_name": "Python 2",
   "language": "python",
   "name": "python2"
  },
  "language_info": {
   "codemirror_mode": {
    "name": "ipython",
    "version": 2
   },
   "file_extension": ".py",
   "mimetype": "text/x-python",
   "name": "python",
   "nbconvert_exporter": "python",
   "pygments_lexer": "ipython2",
   "version": "2.7.11"
  }
 },
 "nbformat": 4,
 "nbformat_minor": 0
}

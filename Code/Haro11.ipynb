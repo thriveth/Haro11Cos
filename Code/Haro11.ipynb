{
 "cells": [
  {
   "cell_type": "markdown",
   "metadata": {},
   "source": [
    "# Running Haro 11 through the LARS-mill\n",
    "\n",
    "This is a description with embedded code of what it takes to run a single COS galaxy spectrum through my LARS-machinery so far.\n",
    "\n",
    "### Imports"
   ]
  },
  {
   "cell_type": "code",
   "execution_count": 1,
   "metadata": {
    "collapsed": false
   },
   "outputs": [
    {
     "name": "stderr",
     "output_type": "stream",
     "text": [
      "/home/trive/anaconda2/lib/python2.7/site-packages/matplotlib/__init__.py:872: UserWarning: axes.color_cycle is deprecated and replaced with axes.prop_cycle; please use the latter.\n",
      "  warnings.warn(self.msg_depr % (key, alt_key))\n"
     ]
    }
   ],
   "source": [
    "import matplotlib as mpl\n",
    "import numpy as np\n",
    "#mpl.use('Qt5Agg')\n",
    "import pickle\n",
    "import cospaper as cosp\n",
    "import scipy as sp\n",
    "import matplotlib.pyplot as plt\n",
    "import pandas as pd\n",
    "import mpl_tricks as mp\n",
    "from astropy.io import fits\n",
    "import astropy.constants as co\n",
    "from astropy.units import Quantity\n",
    "import astropy.units as u"
   ]
  },
  {
   "cell_type": "code",
   "execution_count": 2,
   "metadata": {
    "collapsed": true
   },
   "outputs": [],
   "source": [
    "coldict = {'Si_II_1304':cosp.paircolors[1], \n",
    "           'Si_II_1526':cosp.paircolors[3],\n",
    "           'Si_II_1260':cosp.paircolors[9],\n",
    "           'O_I_1302': 'k',\n",
    "           'C_II_1334': 'gray',\n",
    "           'Si_IV_1393':cosp.paircolors[5],\n",
    "           'Si_IV_1402':cosp.paircolors[7]\n",
    "          }"
   ]
  },
  {
   "cell_type": "markdown",
   "metadata": {},
   "source": [
    "### Data preparation\n",
    "\n",
    "First, run read the data into a NumPy array. "
   ]
  },
  {
   "cell_type": "code",
   "execution_count": 3,
   "metadata": {
    "collapsed": false
   },
   "outputs": [],
   "source": [
    "data = sp.genfromtxt('../Data/haro11_stack.coarse.ascii')"
   ]
  },
  {
   "cell_type": "markdown",
   "metadata": {},
   "source": [
    "Now, read the numpy array into a Pandas `DataFrame()` object.\n",
    "Set appropriate column names, set the wavelength column as the index (but keep them as an ordinary column as well), set the galaxy name as headline for columns."
   ]
  },
  {
   "cell_type": "code",
   "execution_count": 4,
   "metadata": {
    "collapsed": false
   },
   "outputs": [],
   "source": [
    "# Basically does what cosp.load_spectrum() does.\n",
    "thedata = pd.DataFrame(data)\n",
    "thedata.columns = ['wave', 'flam', 'stddev', 'flag']\n",
    "thedata = thedata.set_index('wave', drop=False)\n",
    "thedata.columns.name = 'Haro11C'"
   ]
  },
  {
   "cell_type": "markdown",
   "metadata": {},
   "source": [
    "Now, remove all rows that have flags different from zero.\n",
    "\n",
    "*NB! Is this too strict a regime?*"
   ]
  },
  {
   "cell_type": "code",
   "execution_count": 5,
   "metadata": {
    "collapsed": false
   },
   "outputs": [
    {
     "data": {
      "text/html": [
       "<div>\n",
       "<table border=\"1\" class=\"dataframe\">\n",
       "  <thead>\n",
       "    <tr style=\"text-align: right;\">\n",
       "      <th>Haro11C</th>\n",
       "      <th>wave</th>\n",
       "      <th>flam</th>\n",
       "      <th>stddev</th>\n",
       "      <th>flag</th>\n",
       "    </tr>\n",
       "    <tr>\n",
       "      <th>wave</th>\n",
       "      <th></th>\n",
       "      <th></th>\n",
       "      <th></th>\n",
       "      <th></th>\n",
       "    </tr>\n",
       "  </thead>\n",
       "  <tbody>\n",
       "    <tr>\n",
       "      <th>1151.886559</th>\n",
       "      <td>1151.886559</td>\n",
       "      <td>2.850328e-15</td>\n",
       "      <td>6.729086e-15</td>\n",
       "      <td>0.0</td>\n",
       "    </tr>\n",
       "    <tr>\n",
       "      <th>1151.898794</th>\n",
       "      <td>1151.898794</td>\n",
       "      <td>3.812098e-15</td>\n",
       "      <td>5.175205e-15</td>\n",
       "      <td>0.0</td>\n",
       "    </tr>\n",
       "    <tr>\n",
       "      <th>1151.911030</th>\n",
       "      <td>1151.911030</td>\n",
       "      <td>7.259020e-15</td>\n",
       "      <td>5.763337e-15</td>\n",
       "      <td>0.0</td>\n",
       "    </tr>\n",
       "    <tr>\n",
       "      <th>1151.923266</th>\n",
       "      <td>1151.923266</td>\n",
       "      <td>1.070719e-14</td>\n",
       "      <td>6.953590e-15</td>\n",
       "      <td>0.0</td>\n",
       "    </tr>\n",
       "    <tr>\n",
       "      <th>1151.935502</th>\n",
       "      <td>1151.935502</td>\n",
       "      <td>9.850106e-15</td>\n",
       "      <td>7.055407e-15</td>\n",
       "      <td>0.0</td>\n",
       "    </tr>\n",
       "  </tbody>\n",
       "</table>\n",
       "</div>"
      ],
      "text/plain": [
       "Haro11C             wave          flam        stddev  flag\n",
       "wave                                                      \n",
       "1151.886559  1151.886559  2.850328e-15  6.729086e-15   0.0\n",
       "1151.898794  1151.898794  3.812098e-15  5.175205e-15   0.0\n",
       "1151.911030  1151.911030  7.259020e-15  5.763337e-15   0.0\n",
       "1151.923266  1151.923266  1.070719e-14  6.953590e-15   0.0\n",
       "1151.935502  1151.935502  9.850106e-15  7.055407e-15   0.0"
      ]
     },
     "execution_count": 5,
     "metadata": {},
     "output_type": "execute_result"
    }
   ],
   "source": [
    "thedata['flag'].iloc[sp.where(thedata.flag > 0)] = sp.nan\n",
    "thedata.dropna().head()"
   ]
  },
  {
   "cell_type": "markdown",
   "metadata": {},
   "source": [
    "Now, calculate a systemic redshift from what Andreas has measured:"
   ]
  },
  {
   "cell_type": "code",
   "execution_count": 6,
   "metadata": {
    "collapsed": false
   },
   "outputs": [
    {
     "data": {
      "text/plain": [
       "(<Quantity 0.020434136471838796>, <Quantity 2.3349486663870643e-05>)"
      ]
     },
     "execution_count": 6,
     "metadata": {},
     "output_type": "execute_result"
    }
   ],
   "source": [
    "velHa = Quantity(6126000., unit=u.m/u.s)\n",
    "from helper_functions import deltawl_to_v\n",
    "z = velHa / co.c\n",
    "deltaz = 7000. * u.m/u.s / co.c \n",
    "z, deltaz "
   ]
  },
  {
   "cell_type": "markdown",
   "metadata": {},
   "source": [
    "$0.020434 \\pm 0.00002335$"
   ]
  },
  {
   "cell_type": "markdown",
   "metadata": {},
   "source": [
    "Now, rebin data. Put a band-aid on any remaining near-zero-error problems. Set the redshift as an attribute and painfully re-set it every time an non-inplace operation is performed on the DataFrame (yes, I wrote this before I learned about proper subclassing). \n",
    "\n",
    "Finally, create a smoothed version of the date (mostly for visualization not for computations)."
   ]
  },
  {
   "cell_type": "markdown",
   "metadata": {},
   "source": [
    "## Computations\n",
    "\n",
    "First, in order to meet the expectations of the code, wrap the spectrum into a dict (even if it has only one member). When I grow up, Imma write a procedure that takes care of this, but that is not for now.\n",
    "\n",
    "Next, normalize all involved lines, and set proper masks.\n",
    "\n",
    "Next, make Wofford-style line profile plots. Just for the heck of it. Also here is room for improvement, but that's for later. \n",
    "\n",
    "***This is not reproducible, so once a satisfactory result is reached, this should be ~~pickled~~ saved in human readable form and these steps should not be run again.*** "
   ]
  },
  {
   "cell_type": "code",
   "execution_count": 7,
   "metadata": {
    "collapsed": false
   },
   "outputs": [
    {
     "data": {
      "text/latex": [
       "$1557.1825 \\; \\mathrm{\\mathring{A}}$"
      ],
      "text/plain": [
       "<Quantity 1557.182492256026 Angstrom>"
      ]
     },
     "execution_count": 7,
     "metadata": {},
     "output_type": "execute_result"
    }
   ],
   "source": [
    "Quantity(1526., unit=u.Angstrom) * (1 + z)"
   ]
  },
  {
   "cell_type": "code",
   "execution_count": 8,
   "metadata": {
    "collapsed": false
   },
   "outputs": [],
   "source": [
    "#reload(cosp)\n",
    "#thedict = {1: thedata} \n",
    "#thedict = cosp.make_line_profile_plots(indict=thedict, lines='hilo')\n",
    "#plt.show()"
   ]
  },
  {
   "cell_type": "code",
   "execution_count": 9,
   "metadata": {
    "collapsed": false
   },
   "outputs": [],
   "source": [
    "#cosp.pickle_df(thedict, filename='./Haro11/dfdict.pickle')"
   ]
  },
  {
   "cell_type": "markdown",
   "metadata": {},
   "source": [
    "### LIS lines / Si II lines\n",
    "Now, compute covering fractions for the low-ionization lines."
   ]
  },
  {
   "cell_type": "code",
   "execution_count": 10,
   "metadata": {
    "collapsed": true
   },
   "outputs": [],
   "source": [
    "import pandas as pd\n",
    "thedict = pd.read_pickle('../Products/dfdict.pickle')\n",
    "vfhis = pd.read_pickle('../Products/vfhis.pickle')\n",
    "vflis = pd.read_pickle('../Products/vflis.pickle')\n",
    "vfhisHaro = vfhis.copy()\n",
    "vflisHaro = vflis.copy()"
   ]
  },
  {
   "cell_type": "code",
   "execution_count": 12,
   "metadata": {
    "collapsed": false
   },
   "outputs": [
    {
     "data": {
      "text/plain": [
       "Index([u'Velocity', u'Si_II_1304_Flam', u'Si_II_1304_Stddev',\n",
       "       u'Si_II_1304_Mask', u'Si_II_1526_Flam', u'Si_II_1526_Stddev',\n",
       "       u'Si_II_1526_Mask', u'Si_II_1260_Flam', u'Si_II_1260_Stddev',\n",
       "       u'Si_II_1260_Mask', u'Si_II_CovFrac_map', u'Si_II_CovFrac_err',\n",
       "       u'Si_II_CovFrac_lo_err', u'Si_II_ColDens_map', u'Si_II_ColDens_err',\n",
       "       u'Si_II_ColDens_lo_err', u'Si_II_CovFrac_Xsq', u'Si_II_NumLines',\n",
       "       u'O_I_1302_Flam', u'O_I_1302_Stddev', u'O_I_1302_Mask',\n",
       "       u'C_II_1334_Flam', u'C_II_1334_Stddev', u'C_II_1334_Mask',\n",
       "       u'MeanProfile', u'MeanErrors'],\n",
       "      dtype='object', name=u'Haro11C')"
      ]
     },
     "execution_count": 12,
     "metadata": {},
     "output_type": "execute_result"
    }
   ],
   "source": [
    "vflis[1].columns"
   ]
  },
  {
   "cell_type": "code",
   "execution_count": null,
   "metadata": {
    "collapsed": true
   },
   "outputs": [],
   "source": []
  },
  {
   "cell_type": "code",
   "execution_count": 13,
   "metadata": {
    "collapsed": false
   },
   "outputs": [
    {
     "name": "stdout",
     "output_type": "stream",
     "text": [
      "Populating the interactive namespace from numpy and matplotlib\n"
     ]
    }
   ],
   "source": [
    "%pylab qt4"
   ]
  },
  {
   "cell_type": "code",
   "execution_count": 14,
   "metadata": {
    "collapsed": false
   },
   "outputs": [],
   "source": [
    "vh = vfhis[1].copy()\n",
    "vl = vflis[1].copy()\n",
    "vl.index += 36\n",
    "vv = vl.join(vh, lsuffix='LIS', rsuffix='HIS', how='left')\n",
    "#vv.plot.scatter('Si_IV_CovFrac_map', 'Si_II_CovFrac_map', color='orange')\n",
    "#vv.plot.scatter('MeanProfileLIS', 'MeanProfileHIS', color='orange', ax=gca())\n",
    "#plot(linspace(0, 1, 100), 0.6*linspace(0, 1, 100)-.05)"
   ]
  },
  {
   "cell_type": "code",
   "execution_count": 19,
   "metadata": {
    "collapsed": false
   },
   "outputs": [
    {
     "data": {
      "text/plain": [
       "<matplotlib.lines.Line2D at 0x7f944d1025d0>"
      ]
     },
     "execution_count": 19,
     "metadata": {},
     "output_type": "execute_result"
    }
   ],
   "source": [
    "plot(vh.Velocity, vh.Si_IV_1393_Flam)\n",
    "#plot(vh.Velocity, vh.Si_IV_1402_Flam)\n",
    "axhline(1, color='k')"
   ]
  },
  {
   "cell_type": "code",
   "execution_count": 13,
   "metadata": {
    "collapsed": false
   },
   "outputs": [
    {
     "data": {
      "text/html": [
       "<div>\n",
       "<table border=\"1\" class=\"dataframe\">\n",
       "  <thead>\n",
       "    <tr style=\"text-align: right;\">\n",
       "      <th>Haro11C</th>\n",
       "      <th>Velocity</th>\n",
       "      <th>Si_IV_1393_Flam</th>\n",
       "      <th>Si_IV_1393_Stddev</th>\n",
       "      <th>Si_IV_1393_Mask</th>\n",
       "      <th>Si_IV_1402_Flam</th>\n",
       "      <th>Si_IV_1402_Stddev</th>\n",
       "      <th>Si_IV_1402_Mask</th>\n",
       "      <th>Si_IV_CovFrac_map</th>\n",
       "      <th>Si_IV_CovFrac_err</th>\n",
       "      <th>Si_IV_CovFrac_lo_err</th>\n",
       "      <th>Si_IV_ColDens_map</th>\n",
       "      <th>Si_IV_ColDens_err</th>\n",
       "      <th>Si_IV_ColDens_lo_err</th>\n",
       "      <th>Si_IV_CovFrac_Xsq</th>\n",
       "      <th>Si_IV_NumLines</th>\n",
       "      <th>MeanProfile</th>\n",
       "      <th>MeanErrors</th>\n",
       "    </tr>\n",
       "  </thead>\n",
       "  <tbody>\n",
       "    <tr>\n",
       "      <th>0</th>\n",
       "      <td>-4169.764147</td>\n",
       "      <td>0.912277</td>\n",
       "      <td>0.085395</td>\n",
       "      <td>True</td>\n",
       "      <td>1.156214</td>\n",
       "      <td>0.069565</td>\n",
       "      <td>True</td>\n",
       "      <td>NaN</td>\n",
       "      <td>NaN</td>\n",
       "      <td>NaN</td>\n",
       "      <td>NaN</td>\n",
       "      <td>NaN</td>\n",
       "      <td>NaN</td>\n",
       "      <td>NaN</td>\n",
       "      <td>NaN</td>\n",
       "      <td>1.034245</td>\n",
       "      <td>0.110144</td>\n",
       "    </tr>\n",
       "    <tr>\n",
       "      <th>1</th>\n",
       "      <td>-4154.289049</td>\n",
       "      <td>0.863517</td>\n",
       "      <td>0.084502</td>\n",
       "      <td>True</td>\n",
       "      <td>1.248966</td>\n",
       "      <td>0.076876</td>\n",
       "      <td>True</td>\n",
       "      <td>NaN</td>\n",
       "      <td>NaN</td>\n",
       "      <td>NaN</td>\n",
       "      <td>NaN</td>\n",
       "      <td>NaN</td>\n",
       "      <td>NaN</td>\n",
       "      <td>NaN</td>\n",
       "      <td>NaN</td>\n",
       "      <td>1.056241</td>\n",
       "      <td>0.114239</td>\n",
       "    </tr>\n",
       "    <tr>\n",
       "      <th>2</th>\n",
       "      <td>-4138.813951</td>\n",
       "      <td>0.871957</td>\n",
       "      <td>0.086273</td>\n",
       "      <td>True</td>\n",
       "      <td>1.221780</td>\n",
       "      <td>0.077732</td>\n",
       "      <td>True</td>\n",
       "      <td>NaN</td>\n",
       "      <td>NaN</td>\n",
       "      <td>NaN</td>\n",
       "      <td>NaN</td>\n",
       "      <td>NaN</td>\n",
       "      <td>NaN</td>\n",
       "      <td>NaN</td>\n",
       "      <td>NaN</td>\n",
       "      <td>1.046869</td>\n",
       "      <td>0.116126</td>\n",
       "    </tr>\n",
       "    <tr>\n",
       "      <th>3</th>\n",
       "      <td>-4123.338854</td>\n",
       "      <td>0.772896</td>\n",
       "      <td>0.080649</td>\n",
       "      <td>True</td>\n",
       "      <td>1.092365</td>\n",
       "      <td>0.075893</td>\n",
       "      <td>True</td>\n",
       "      <td>NaN</td>\n",
       "      <td>NaN</td>\n",
       "      <td>NaN</td>\n",
       "      <td>NaN</td>\n",
       "      <td>NaN</td>\n",
       "      <td>NaN</td>\n",
       "      <td>NaN</td>\n",
       "      <td>NaN</td>\n",
       "      <td>0.932631</td>\n",
       "      <td>0.110742</td>\n",
       "    </tr>\n",
       "    <tr>\n",
       "      <th>4</th>\n",
       "      <td>-4107.863756</td>\n",
       "      <td>0.735109</td>\n",
       "      <td>0.082498</td>\n",
       "      <td>True</td>\n",
       "      <td>1.174422</td>\n",
       "      <td>0.076761</td>\n",
       "      <td>True</td>\n",
       "      <td>NaN</td>\n",
       "      <td>NaN</td>\n",
       "      <td>NaN</td>\n",
       "      <td>NaN</td>\n",
       "      <td>NaN</td>\n",
       "      <td>NaN</td>\n",
       "      <td>NaN</td>\n",
       "      <td>NaN</td>\n",
       "      <td>0.954766</td>\n",
       "      <td>0.112686</td>\n",
       "    </tr>\n",
       "  </tbody>\n",
       "</table>\n",
       "</div>"
      ],
      "text/plain": [
       "Haro11C     Velocity  Si_IV_1393_Flam  Si_IV_1393_Stddev Si_IV_1393_Mask  \\\n",
       "0       -4169.764147         0.912277           0.085395            True   \n",
       "1       -4154.289049         0.863517           0.084502            True   \n",
       "2       -4138.813951         0.871957           0.086273            True   \n",
       "3       -4123.338854         0.772896           0.080649            True   \n",
       "4       -4107.863756         0.735109           0.082498            True   \n",
       "\n",
       "Haro11C  Si_IV_1402_Flam  Si_IV_1402_Stddev Si_IV_1402_Mask  \\\n",
       "0               1.156214           0.069565            True   \n",
       "1               1.248966           0.076876            True   \n",
       "2               1.221780           0.077732            True   \n",
       "3               1.092365           0.075893            True   \n",
       "4               1.174422           0.076761            True   \n",
       "\n",
       "Haro11C  Si_IV_CovFrac_map  Si_IV_CovFrac_err  Si_IV_CovFrac_lo_err  \\\n",
       "0                      NaN                NaN                   NaN   \n",
       "1                      NaN                NaN                   NaN   \n",
       "2                      NaN                NaN                   NaN   \n",
       "3                      NaN                NaN                   NaN   \n",
       "4                      NaN                NaN                   NaN   \n",
       "\n",
       "Haro11C  Si_IV_ColDens_map  Si_IV_ColDens_err  Si_IV_ColDens_lo_err  \\\n",
       "0                      NaN                NaN                   NaN   \n",
       "1                      NaN                NaN                   NaN   \n",
       "2                      NaN                NaN                   NaN   \n",
       "3                      NaN                NaN                   NaN   \n",
       "4                      NaN                NaN                   NaN   \n",
       "\n",
       "Haro11C  Si_IV_CovFrac_Xsq  Si_IV_NumLines  MeanProfile  MeanErrors  \n",
       "0                      NaN             NaN     1.034245    0.110144  \n",
       "1                      NaN             NaN     1.056241    0.114239  \n",
       "2                      NaN             NaN     1.046869    0.116126  \n",
       "3                      NaN             NaN     0.932631    0.110742  \n",
       "4                      NaN             NaN     0.954766    0.112686  "
      ]
     },
     "execution_count": 13,
     "metadata": {},
     "output_type": "execute_result"
    }
   ],
   "source": [
    "vh.head()"
   ]
  },
  {
   "cell_type": "code",
   "execution_count": 15,
   "metadata": {
    "collapsed": false
   },
   "outputs": [
    {
     "name": "stdout",
     "output_type": "stream",
     "text": [
      "Populating the interactive namespace from numpy and matplotlib\n"
     ]
    }
   ],
   "source": [
    "%pylab qt4\n",
    "factor = 0.7\n",
    "kernel = np.ones(1)/1.\n",
    "SiII = vl.Si_II_1260_Flam\n",
    "CII = vl.C_II_1334_Flam\n",
    "SiIIoff = np.roll(SiII.values, 15)\n",
    "SiIIoff = (SiIIoff - 1.) * factor + 1.\n",
    "plt.plot(vl.Velocity, np.convolve(CII, kernel, mode='same'), \n",
    "         color=coldict['C_II_1334'], label='C II 1334+1335', lw=1.2, drawstyle='steps-mid')\n",
    "mp.fill_between_steps(vl.Velocity.values, \n",
    "                      vl.C_II_1334_Flam.values - vl.C_II_1334_Stddev.values, \n",
    "                      vl.C_II_1334_Flam.values + vl.C_II_1334_Stddev.values,\n",
    "                      color='lightgray', zorder=0, \n",
    "                     )\n",
    "plt.plot(vl.Velocity, np.convolve(SiII, kernel, mode='same'), \n",
    "         color=coldict['Si_II_1260'], label='Si II 1260', lw=1.2, drawstyle='steps-mid')\n",
    "plt.fill_between(vl.Velocity, \n",
    "                      vl.Si_II_1260_Flam - vl.Si_II_1260_Stddev, \n",
    "                      vl.Si_II_1260_Flam + vl.Si_II_1260_Stddev,\n",
    "                      color=cosp.paircolors[8], zorder=0, step='mid'\n",
    "                     )\n",
    "plt.plot(vl.Velocity, np.convolve(SiII * SiIIoff, np.ones(1)/1., mode='same'), \n",
    "         color='k', label='Model C II', lw=2.4, drawstyle='steps-mid' )\n",
    "#plt.plot(vl.Velocity, np.convolve(CII / SiII, kernel, mode='same'))\n",
    "#plt.plot(vl.Velocity, np.convolve(SiII, kernel, mode='same'))\n",
    "plt.axhline(0, color='k', ls='-')\n",
    "plt.axvline(0, color='k', ls=':')\n",
    "plt.axhline(1, color='k', ls=':')\n",
    "plt.axis((-800, 800, -.2, 1.4))\n",
    "plt.legend(loc='best')\n",
    "plt.xlabel(u'$v - v_0$ [km s⁻¹]')\n",
    "plt.ylabel('Normalized flux')\n",
    "plt.show()\n"
   ]
  },
  {
   "cell_type": "code",
   "execution_count": 16,
   "metadata": {
    "collapsed": false
   },
   "outputs": [
    {
     "name": "stdout",
     "output_type": "stream",
     "text": [
      "15.0\n",
      "165.635611269\n"
     ]
    }
   ],
   "source": [
    "offset = vl.Velocity.values[1:] - vl.Velocity.values[:-1]\n",
    "offset.mean(), offset.ptp()\n",
    "print np.around(253. / offset.mean())\n",
    "print 10 * offset.mean()"
   ]
  },
  {
   "cell_type": "code",
   "execution_count": 26,
   "metadata": {
    "collapsed": false
   },
   "outputs": [
    {
     "ename": "AttributeError",
     "evalue": "'module' object has no attribute 'ro'",
     "output_type": "error",
     "traceback": [
      "\u001b[1;31m---------------------------------------------------------------------------\u001b[0m",
      "\u001b[1;31mAttributeError\u001b[0m                            Traceback (most recent call last)",
      "\u001b[1;32m<ipython-input-26-08bd13312b60>\u001b[0m in \u001b[0;36m<module>\u001b[1;34m()\u001b[0m\n\u001b[0;32m      1\u001b[0m \u001b[1;32mimport\u001b[0m \u001b[0mnumpy\u001b[0m \u001b[1;32mas\u001b[0m \u001b[0mnp\u001b[0m\u001b[1;33m\u001b[0m\u001b[0m\n\u001b[1;32m----> 2\u001b[1;33m \u001b[0mnp\u001b[0m\u001b[1;33m.\u001b[0m\u001b[0mro\u001b[0m\u001b[1;33m\u001b[0m\u001b[0m\n\u001b[0m",
      "\u001b[1;31mAttributeError\u001b[0m: 'module' object has no attribute 'ro'"
     ]
    }
   ],
   "source": [
    "import numpy as np\n",
    "np.ro"
   ]
  },
  {
   "cell_type": "code",
   "execution_count": 14,
   "metadata": {
    "collapsed": false,
    "scrolled": true
   },
   "outputs": [],
   "source": [
    "#reload(cosp)\n",
    "#thefile = open('./Haro11/dfdict.pickle')\n",
    "#thedict = pickle.load(thefile)\n",
    "#thedict[1].z_value = z.value\n",
    "#vflisHaro = cosp.make_cover_frac_plots(\n",
    "#    thedict, lines=cosp.SiIIlines, \n",
    "#    compare_lines=cosp.lislines, minimizer='brute')\n",
    "#plt.show()"
   ]
  },
  {
   "cell_type": "markdown",
   "metadata": {},
   "source": [
    "Generate the $f_c$ / $N_c$ / pseudo-red. $\\chi^2$ triple plot:"
   ]
  },
  {
   "cell_type": "code",
   "execution_count": 15,
   "metadata": {
    "collapsed": false
   },
   "outputs": [],
   "source": [
    "#reload(cosp)\n",
    "#%pylab qt4\n",
    "#cosp.single_coverfrac_plot(\n",
    "#    vflisHaro[1], dotcolor=cosp.paircolors[3], \n",
    "#    barcolor=cosp.paircolors[2])"
   ]
  },
  {
   "cell_type": "markdown",
   "metadata": {},
   "source": [
    "## Optically thick?"
   ]
  },
  {
   "cell_type": "code",
   "execution_count": 17,
   "metadata": {
    "collapsed": false
   },
   "outputs": [],
   "source": [
    "#%matplotlib inline\n",
    "vlis = vflis[1]\n",
    "vlis.columns\n",
    "plt.figure(figsize=(6, 4))\n",
    "plt.plot(vlis.Velocity, vlis.Si_II_1260_Flam, 'k-', drawstyle='steps-mid')\n",
    "plt.fill_between(\n",
    "    vlis.Velocity, \n",
    "    vlis.Si_II_1260_Flam+vlis.Si_II_1260_Stddev, \n",
    "    y2=vlis.Si_II_1260_Flam - vlis.Si_II_1260_Stddev, \n",
    "    color='gray', alpha=.5, step='mid')\n",
    "plt.plot(vlis.Velocity, 1. - vlis.Si_II_CovFrac_map, 'o', color='orange', mec='orange')\n",
    "plt.fill_between(\n",
    "    vlis.Velocity, \n",
    "    1 - (vlis.Si_II_CovFrac_map+vlis.Si_II_CovFrac_err), \n",
    "    y2=1 - (vlis.Si_II_CovFrac_map - vlis.Si_II_CovFrac_lo_err), \n",
    "    color='orange', alpha=.5, step='mid')\n",
    "plt.tick_params(labelsize=12)\n",
    "plt.axis((-1000, 600, -.1, 1.4))\n",
    "plt.axhline(0, color='k', ls='-', lw=.9)\n",
    "plt.axvline(0, color='k', ls=':', lw=.9)\n",
    "plt.show()"
   ]
  },
  {
   "cell_type": "markdown",
   "metadata": {},
   "source": [
    "### Demonstrate AOD"
   ]
  },
  {
   "cell_type": "code",
   "execution_count": 18,
   "metadata": {
    "collapsed": false
   },
   "outputs": [
    {
     "name": "stdout",
     "output_type": "stream",
     "text": [
      "-6.53212071158 0.46 12.1\n"
     ]
    }
   ],
   "source": [
    "# zero-bin:231\n",
    "binnum = 231\n",
    "print vlis.Velocity.loc[binnum], vlis.Si_II_CovFrac_map.loc[binnum], vlis.Si_II_ColDens_map.loc[binnum]\n",
    "from linelists import fikdict as fd\n",
    "import numpy as np\n",
    "fig, axes = plt.subplots(1, 2, figsize=(7, 3.), sharex=False)\n",
    "plt.sca(axes[1])\n",
    "SiFiks = [1.22, 0.0928, 0.133]  # 1260, 1304, 1526\n",
    "SiFikLam = np.array([1.22*1260., 0.0928*1304., 0.133*1526])\n",
    "FikLams = np.linspace(0, 1700, 100)\n",
    "taus = FikLams * 10**vlis.Si_II_ColDens_map.loc[binnum] / (3.768e14)\n",
    "Ifunc = 1 - vlis.Si_II_CovFrac_map.loc[binnum]*(1 - np.exp(-taus)) \n",
    "\n",
    "HiTau = FikLams * 10**11.6 / 3.768e14\n",
    "LoTau = FikLams * 10**13 / 3.768e14\n",
    "#HiIfunc = 1 - vlis.Si_II_CovFrac_map.loc[binnum]*(1 - np.exp(-HiTau))\n",
    "HiIfunc = 1 - .999*(1 - np.exp(-HiTau))\n",
    "LoIfunc = 1 - vlis.Si_II_CovFrac_map.loc[binnum]*(1 - np.exp(-LoTau))\n",
    "MdIfunc = 1 - .6*(1 - np.exp(-HiTau))\n",
    "\n",
    "SiFlams = vlis[['Si_II_1260_Flam', 'Si_II_1304_Flam', 'Si_II_1526_Flam']]\n",
    "SiErrs = vlis[['Si_II_1260_Stddev', 'Si_II_1304_Stddev', 'Si_II_1526_Stddev']]\n",
    "\n",
    "plt.plot(FikLams, Ifunc, 'm-')\n",
    "plt.plot(FikLams, HiIfunc, '--', color='gray')\n",
    "plt.plot(FikLams, LoIfunc, ':', color='gray')\n",
    "plt.errorbar(SiFikLam, SiFlams.loc[binnum].values, SiErrs.loc[binnum].values, ls='', color='k')\n",
    "plt.plot(SiFikLam, SiFlams.loc[binnum], 'ko')\n",
    "#plt.plot(FikLams, MdIfunc, '--', color='gray')\n",
    "plt.xlabel('$f\\lambda$')\n",
    "plt.ylabel('Relative flux')\n",
    "plt.xticks([0, 500, 1000, 1500])\n",
    "#plt.sca(axes[2])\n",
    "#plt.xlabel('$v-v_0$ [km s$^{-1}$]')\n",
    "#plt.ylabel('log N')\n",
    "#plt.xticks([-600, -400, -200, 0, 200, 400])\n",
    "#plt.plot(vlis.Velocity, vlis.Si_II_ColDens_map, 'k-', drawstyle='steps-mid')\n",
    "#mp.fill_between_steps(vlis.Velocity.values, \n",
    "#                      vlis.Si_II_ColDens_map.values + vlis.Si_II_ColDens_err.values, \n",
    "#                      vlis.Si_II_ColDens_map.values - vlis.Si_II_ColDens_lo_err.values, \n",
    "#                     color='lightgray',)\n",
    "#plt.ylim(10, 15)\n",
    "#plt.axvline(vlis.Velocity.loc[binnum], color='r', ls='-')\n",
    "#plt.annotate('log N = {}'.format(vlis.Si_II_ColDens_map.loc[binnum]), (0.05, 0.92), xycoords='axes fraction')\n",
    "#plt.xlim(-500, 300)#\n",
    "\n",
    "#plt.sca(axes[3])\n",
    "#plt.xticks([-400, -200, 0, 200])\n",
    "#plt.xlabel('$v-v_0$ [km s$^{-1}$]')\n",
    "#plt.ylabel('pseudo-red. $\\chi^2$')\n",
    "#plt.axvline(vlis.Velocity.loc[binnum], color='r', ls='-')\n",
    "#plt.plot(vlis.Velocity, vlis.Si_II_CovFrac_Xsq, 'k-')\n",
    "#plt.axis((-500, 300, -1, 40))\n",
    "plt.sca(axes[0])\n",
    "vel = vlis.Velocity\n",
    "plt.plot(vel, SiFlams['Si_II_1260_Flam'], color=coldict['Si_II_1260'], drawstyle='steps-mid')\n",
    "plt.plot(vel, SiFlams['Si_II_1304_Flam'], color=coldict['Si_II_1304'], drawstyle='steps-mid')\n",
    "plt.plot(vel, SiFlams['Si_II_1526_Flam'], color=coldict['Si_II_1526'], drawstyle='steps-mid')\n",
    "plt.axvline(0, color='k', ls=':')\n",
    "plt.axhline(1, color='k', ls=':')\n",
    "plt.axvline(vlis.Velocity.loc[binnum], color='r', ls='-')\n",
    "plt.axis((-500, 300, 0, 1.4))\n",
    "plt.xlabel('$v-v_0$ [km s$^{-1}$]')\n",
    "plt.ylabel('Relative flux')\n",
    "plt.xticks([-400, -200, 0, 200])\n",
    "plt.subplots_adjust(left=0.05, right=0.97, bottom=.18, wspace=.3)\n",
    "plt.show()"
   ]
  },
  {
   "cell_type": "markdown",
   "metadata": {},
   "source": [
    "### Again, but for applications, not paper"
   ]
  },
  {
   "cell_type": "code",
   "execution_count": 20,
   "metadata": {
    "collapsed": false
   },
   "outputs": [
    {
     "name": "stdout",
     "output_type": "stream",
     "text": [
      "Populating the interactive namespace from numpy and matplotlib\n",
      "-172.167731981 0.576 12.5\n"
     ]
    }
   ],
   "source": [
    "%pylab qt4\n",
    "# zero-bin:231\n",
    "binnum = 221\n",
    "print vlis.Velocity.loc[binnum], vlis.Si_II_CovFrac_map.loc[binnum], vlis.Si_II_ColDens_map.loc[binnum]\n",
    "from linelists import fikdict as fd\n",
    "import numpy as np\n",
    "fig, axes = plt.subplots(1, 4, figsize=(7, 2.5), sharex=False)\n",
    "plt.sca(axes[1])\n",
    "plt.axhline(0, color='k', ls='-')\n",
    "SiFiks = [1.22, 0.0928, 0.133]  # 1260, 1304, 1526\n",
    "SiFikLam = np.array([1.22*1260., 0.0928*1304., 0.133*1526])\n",
    "FikLams = np.linspace(0, 1700, 100)\n",
    "taus = FikLams * 10**vlis.Si_II_ColDens_map.loc[binnum] / (3.768e14)\n",
    "Ifunc = 1 - vlis.Si_II_CovFrac_map.loc[binnum]*(1 - np.exp(-taus)) \n",
    "\n",
    "HiTau = FikLams * 10**11.6 / 3.768e14\n",
    "LoTau = FikLams * 10**13 / 3.768e14\n",
    "#HiIfunc = 1 - vlis.Si_II_CovFrac_map.loc[binnum]*(1 - np.exp(-HiTau))\n",
    "HiIfunc = 1 - .999*(1 - np.exp(-HiTau))\n",
    "LoIfunc = 1 - vlis.Si_II_CovFrac_map.loc[binnum]*(1 - np.exp(-LoTau))\n",
    "MdIfunc = 1 - .6*(1 - np.exp(-HiTau))\n",
    "\n",
    "SiFlams = vlis[['Si_II_1260_Flam', 'Si_II_1304_Flam', 'Si_II_1526_Flam']]\n",
    "SiErrs = vlis[['Si_II_1260_Stddev', 'Si_II_1304_Stddev', 'Si_II_1526_Stddev']]\n",
    "plt.axhline(0, color='k', ls='-')\n",
    "plt.plot(FikLams, Ifunc, 'm-')\n",
    "plt.plot(FikLams, HiIfunc, '--', color='gray')\n",
    "plt.plot(FikLams, LoIfunc, ':', color='gray')\n",
    "plt.errorbar(SiFikLam, SiFlams.loc[binnum].values, SiErrs.loc[binnum].values, ls='', color='k')\n",
    "plt.plot(SiFikLam, SiFlams.loc[binnum], 'ko')\n",
    "#plt.plot(FikLams, MdIfunc, '--', color='gray')\n",
    "plt.xlabel('$f\\lambda$')\n",
    "plt.ylabel('Relative flux')\n",
    "plt.xticks([0, 500, 1000, 1500])\n",
    "plt.ylim(-.1, 1.3)\n",
    "plt.sca(axes[2])\n",
    "plt.xlabel('$v-v_0$ [km s$^{-1}$]')\n",
    "plt.ylabel('log N')\n",
    "plt.xticks([-600, -400, -200, 0, 200, 400])\n",
    "plt.plot(vlis.Velocity, vlis.Si_II_ColDens_map, 'k-', drawstyle='steps-mid')\n",
    "mp.fill_between_steps(vlis.Velocity.values, \n",
    "                      vlis.Si_II_ColDens_map.values + vlis.Si_II_ColDens_err.values, \n",
    "                      vlis.Si_II_ColDens_map.values - vlis.Si_II_ColDens_lo_err.values, \n",
    "                     color='lightgray',)\n",
    "plt.ylim(10, 15)\n",
    "plt.axvline(vlis.Velocity.loc[binnum], color='r', ls='-')\n",
    "plt.annotate('log N = {}'.format(vlis.Si_II_ColDens_map.loc[binnum]), (0.05, 0.92), xycoords='axes fraction')\n",
    "plt.xlim(-500, 300)#\n",
    "\n",
    "plt.sca(axes[3])\n",
    "plt.xticks([-400, -200, 0, 200])\n",
    "plt.xlabel('$v-v_0$ [km s$^{-1}$]')\n",
    "#plt.ylabel('pseudo-red. $\\chi^2$')\n",
    "plt.axhline(0, color='k', ls='-')\n",
    "plt.axvline(0, color='k', ls=':')\n",
    "plt.axhline(1, color='k', ls=':')\n",
    "plt.axvline(vlis.Velocity.loc[binnum], color='r', ls='-')\n",
    "\n",
    "mp.fill_between_steps(vlis.Velocity.values, \n",
    "                      (vlis.Si_II_1260_Flam.values + vlis.Si_II_1260_Stddev.values), \n",
    "                      (vlis.Si_II_1260_Flam.values - vlis.Si_II_1260_Stddev.values), \n",
    "                     color='lightgray',)\n",
    "plt.plot(vlis.Velocity, vlis.Si_II_1260_Flam, 'k-', drawstyle='steps-mid')\n",
    "mp.fill_between_steps(vlis.Velocity.values, \n",
    "                      1-(vlis.Si_II_CovFrac_map.values + vlis.Si_II_CovFrac_err.values), \n",
    "                      1 - (vlis.Si_II_CovFrac_map.values - vlis.Si_II_CovFrac_lo_err.values), \n",
    "                     color=cosp.paircolors[6], alpha=.6)\n",
    "\n",
    "plt.plot(vlis.Velocity, 1 - vlis.Si_II_CovFrac_map, 'o', color=cosp.paircolors[7], mew=0)\n",
    "#plt.axis((-500, 300, -1, 40))\n",
    "plt.axis((-500, 300, -.1, 1.3))\n",
    "plt.sca(axes[0])\n",
    "vel = vlis.Velocity\n",
    "plt.plot(vel, SiFlams['Si_II_1260_Flam'], color=coldict['Si_II_1260'], drawstyle='steps-mid')\n",
    "plt.plot(vel, SiFlams['Si_II_1304_Flam'], color=coldict['Si_II_1304'], drawstyle='steps-mid')\n",
    "plt.plot(vel, SiFlams['Si_II_1526_Flam'], color=coldict['Si_II_1526'], drawstyle='steps-mid')\n",
    "plt.axhline(0, color='k', ls='-')\n",
    "plt.axvline(0, color='k', ls=':')\n",
    "plt.axhline(1, color='k', ls=':')\n",
    "plt.axvline(vlis.Velocity.loc[binnum], color='r', ls='-')\n",
    "plt.axis((-500, 300, -.10, 1.3))\n",
    "plt.xlabel('$v-v_0$ [km s$^{-1}$]')\n",
    "plt.ylabel('Relative flux')\n",
    "plt.xticks([-400, -200, 0, 200])\n",
    "plt.subplots_adjust(left=0.05, right=0.97, bottom=.18, wspace=.3)\n",
    "plt.show()"
   ]
  },
  {
   "cell_type": "code",
   "execution_count": 199,
   "metadata": {
    "collapsed": false
   },
   "outputs": [],
   "source": [
    "from statsmodels.nonparametric import kernel_regression as kr\n",
    "from statsmodels.nonparametric import smoothers_lowess as lowess\n",
    "idx = vlis.Si_II_ColDens_map.notnull()\n",
    "vidx = vlis.Velocity.between(-450, 150)\n",
    "fidx = idx & vidx\n",
    "#fidx.ix[218] = False\n",
    "vels = vlis.Velocity[fidx]\n",
    "vals = vlis.Si_II_ColDens_map[fidx]\n",
    "vals[218] = (vals[219]+vals[217]) / 2\n",
    "reg = kr.KernelReg(vals, vels, 'c',)# bw='')"
   ]
  },
  {
   "cell_type": "code",
   "execution_count": 200,
   "metadata": {
    "collapsed": false
   },
   "outputs": [
    {
     "data": {
      "text/plain": [
       "205    12.04\n",
       "206    12.28\n",
       "207    12.08\n",
       "208    12.62\n",
       "209    12.02\n",
       "210    12.28\n",
       "211    12.26\n",
       "212    12.38\n",
       "213    12.36\n",
       "214    12.44\n",
       "215    12.36\n",
       "216    12.54\n",
       "217    12.54\n",
       "218    12.65\n",
       "219    12.76\n",
       "220    12.70\n",
       "221    12.50\n",
       "222    12.40\n",
       "223    12.50\n",
       "224    12.60\n",
       "225    12.38\n",
       "226    12.34\n",
       "227    12.34\n",
       "228    12.38\n",
       "229    12.46\n",
       "230    12.28\n",
       "231    12.10\n",
       "232    12.18\n",
       "233    12.06\n",
       "234    12.14\n",
       "235    11.86\n",
       "236    12.04\n",
       "237    12.56\n",
       "238    10.44\n",
       "239    11.24\n",
       "240    10.00\n",
       "Name: Si_II_ColDens_map, dtype: float64"
      ]
     },
     "execution_count": 200,
     "metadata": {},
     "output_type": "execute_result"
    }
   ],
   "source": [
    "vals"
   ]
  },
  {
   "cell_type": "code",
   "execution_count": 201,
   "metadata": {
    "collapsed": false
   },
   "outputs": [],
   "source": [
    "result, errs = reg.fit()\n",
    "#lowout = lowess.lowess(vals, vels, frac=0.25)"
   ]
  },
  {
   "cell_type": "code",
   "execution_count": 202,
   "metadata": {
    "collapsed": false
   },
   "outputs": [],
   "source": [
    "Ns = 10 ** result"
   ]
  },
  {
   "cell_type": "code",
   "execution_count": 203,
   "metadata": {
    "collapsed": false
   },
   "outputs": [],
   "source": [
    "figure(figsize=(3.5, 3))\n",
    "plot(vlis.Velocity, 10**vlis.Si_II_ColDens_map, 'k-', drawstyle='steps-mid', label=r'$N_{\\rm Si II}$')\n",
    "plot(vlis.Velocity, 10**vlis.Si_II_ColDens_map, 'k-', drawstyle='steps-mid', label=r'$N_{\\rm Si II}$')\n",
    "plot(vels, Ns, lw=2, color='orange', drawstyle='steps-mid', label=r'$\\rm LLE$')\n",
    "legend(frameon=False)\n",
    "#plt.fill_between(vels, Ns, color='orange', alpha=.5, step='mid')                 \n",
    "xlim(-600, 250)\n",
    "xlabel('$v-v_0$')\n",
    "ylabel(r'$N_{\\rm{Si II}}$')\n",
    "subplots_adjust(bottom=0.15, left=0.18)\n",
    "yscale('log')"
   ]
  },
  {
   "cell_type": "code",
   "execution_count": 206,
   "metadata": {
    "collapsed": false
   },
   "outputs": [
    {
     "data": {
      "text/plain": [
       "13.872206284357651"
      ]
     },
     "execution_count": 206,
     "metadata": {},
     "output_type": "execute_result"
    }
   ],
   "source": [
    "log10(Ns.sum())"
   ]
  },
  {
   "cell_type": "code",
   "execution_count": 216,
   "metadata": {
    "collapsed": false
   },
   "outputs": [
    {
     "data": {
      "text/plain": [
       "<matplotlib.legend.Legend at 0x7f906760c8d0>"
      ]
     },
     "execution_count": 216,
     "metadata": {},
     "output_type": "execute_result"
    }
   ],
   "source": [
    "#errs = (vlis.Si_II_ColDens_err + vlis.Si_II_ColDens_lo_err) / 2\n",
    "plot(vlis.Velocity, vlis.Si_II_1260_Stddev, label='1260')\n",
    "plot(vlis.Velocity, vlis.Si_II_1304_Stddev, label='1304')\n",
    "plot(vlis.Velocity, vlis.Si_II_1526_Stddev, label='1526')\n",
    "plot(vlis.Velocity, vlis.MeanErrors, label='combined')\n",
    "legend()"
   ]
  },
  {
   "cell_type": "code",
   "execution_count": 181,
   "metadata": {
    "collapsed": false
   },
   "outputs": [],
   "source": [
    "plt.plot(vlis.Velocity, vlis.Si_II_1260_Flam)\n",
    "plt.xlim(-1000, 1500)\n",
    "plt.show()"
   ]
  },
  {
   "cell_type": "code",
   "execution_count": 205,
   "metadata": {
    "collapsed": false
   },
   "outputs": [
    {
     "data": {
      "text/plain": [
       "-221.85841536153151"
      ]
     },
     "execution_count": 205,
     "metadata": {},
     "output_type": "execute_result"
    }
   ],
   "source": [
    "vels[218]"
   ]
  },
  {
   "cell_type": "code",
   "execution_count": 46,
   "metadata": {
    "collapsed": true
   },
   "outputs": [],
   "source": [
    "import lmfit as lf\n",
    "import profiles as pro"
   ]
  },
  {
   "cell_type": "code",
   "execution_count": 55,
   "metadata": {
    "collapsed": false
   },
   "outputs": [],
   "source": [
    "dlis = thedict[1]#.dropna()\n",
    "dlis = dlis.loc[1275:1295]\n",
    "flux = dlis.flam\n",
    "wave = dlis['lambda']\n",
    "plt.plot(flux, label='Observed data', drawstyle='Steps')\n",
    "plt.axis((1275, 1295, 0, 3e-13))\n",
    "plt.axvline(1286.17, color='k', ls=':')\n",
    "plt.axvline(1290.54, color='k', ls=':')\n",
    "fl = lf.models.GaussianModel() + lf.models.ConstantModel()\n",
    "cen = lf.Parameter('center', 1291, min=1289.5, max=1293)\n",
    "amp = lf.Parameter('amplitude', 2e-14, min=0)\n",
    "sig = lf.Parameter('sigma', .2, min=.05, max=5)\n",
    "x = lf.Parameter('c', 1.25e-13, min=1.2e-13)\n",
    "p = lf.Parameters()\n",
    "p.add_many(cen, amp, sig, x)\n",
    "out = fl.fit(dlis.flam, p, x=wave)\n",
    "#plt.plot(wave, fl.eval(p, x=wave), color='orange')\n",
    "plt.plot(dlis['lambda'], out.best_fit, color='orange', lw=2, label='SiII* best fit')\n",
    "aa = 2.58 / 3.06\n",
    "subt = pro.gauss(dlis['lambda'], \n",
    "                 out.best_values['center']-4.3, \n",
    "                 out.best_values['sigma'], \n",
    "                 out.best_values['amplitude'] * aa)\n",
    "plt.plot(dlis['lambda'], dlis.flam - subt, color='gray', zorder=1, label='RT-corr. data', \n",
    "        drawstyle='Steps', alpha=.5)\n",
    "plt.legend(loc='best', title='Si II 1260')\n",
    "plt.xlabel(u'Wave [Å]')\n",
    "plt.ylabel(u'Flux [erg s⁻¹ cm⁻² Å⁻¹]')\n",
    "plt.axis((1280, 1293, 0, 2e-13))\n",
    "plt.show()"
   ]
  },
  {
   "cell_type": "code",
   "execution_count": 26,
   "metadata": {
    "collapsed": false
   },
   "outputs": [
    {
     "data": {
      "text/plain": [
       "<matplotlib.axes._subplots.AxesSubplot at 0x7fe7187b7690>"
      ]
     },
     "execution_count": 26,
     "metadata": {},
     "output_type": "execute_result"
    }
   ],
   "source": [
    "fl.eval(p, x=wave).plot()"
   ]
  },
  {
   "cell_type": "code",
   "execution_count": 253,
   "metadata": {
    "collapsed": false
   },
   "outputs": [
    {
     "name": "stdout",
     "output_type": "stream",
     "text": [
      "[[Model]]\n",
      "    (Model(gaussian) + Model(constant))\n",
      "[[Fit Statistics]]\n",
      "    # function evals   = 83\n",
      "    # data points      = 273\n",
      "    # variables        = 4\n",
      "    chi-square         = 0.000\n",
      "    reduced chi-square = 0.000\n",
      "    Akaike info crit   = -17215.019\n",
      "    Bayesian info crit = -17200.581\n",
      "[[Variables]]\n",
      "    center:      1290.93247 +/- 0        (0.00%) (init= 1290)\n",
      "    amplitude:   1.9984e-14 +/- 0        (0.00%) (init= 2e-14)\n",
      "    sigma:       0.33320150 +/- 0        (0.00%) (init= 0.1)\n",
      "    c:           1.2512e-13 +/- 0        (0.00%) (init= 1.25e-13)\n",
      "[[Correlations]] (unreported correlations are <  0.100)\n",
      "\n"
     ]
    }
   ],
   "source": [
    "print(out.fit_report())"
   ]
  },
  {
   "cell_type": "code",
   "execution_count": 240,
   "metadata": {
    "collapsed": false
   },
   "outputs": [
    {
     "data": {
      "text/plain": [
       "{'amplitude': 1.9984014443252818e-14,\n",
       " 'c': 1.178782364251628e-13,\n",
       " 'center': 1290.9316639205749,\n",
       " 'sigma': 0.33130289385833456}"
      ]
     },
     "execution_count": 240,
     "metadata": {},
     "output_type": "execute_result"
    }
   ],
   "source": [
    "out.best_values"
   ]
  },
  {
   "cell_type": "code",
   "execution_count": null,
   "metadata": {
    "collapsed": true
   },
   "outputs": [],
   "source": [
    "fl = lf.models.GaussianModel"
   ]
  },
  {
   "cell_type": "code",
   "execution_count": null,
   "metadata": {
    "collapsed": true
   },
   "outputs": [],
   "source": [
    "fl = lf.models.GaussianModel"
   ]
  },
  {
   "cell_type": "markdown",
   "metadata": {},
   "source": [
    "### HIS / Si IV lines\n",
    "\n",
    "Same as above."
   ]
  },
  {
   "cell_type": "code",
   "execution_count": 15,
   "metadata": {
    "collapsed": false
   },
   "outputs": [
    {
     "ename": "AttributeError",
     "evalue": "'Series' object has no attribute 'z_value'",
     "output_type": "error",
     "traceback": [
      "\u001b[0;31m---------------------------------------------------------------------------\u001b[0m",
      "\u001b[0;31mAttributeError\u001b[0m                            Traceback (most recent call last)",
      "\u001b[0;32m<ipython-input-15-a61ffffb7f27>\u001b[0m in \u001b[0;36m<module>\u001b[0;34m()\u001b[0m\n\u001b[1;32m      2\u001b[0m vfhisHaro = cosp.make_cover_frac_plots(\n\u001b[1;32m      3\u001b[0m     \u001b[0mthedict\u001b[0m\u001b[0;34m[\u001b[0m\u001b[0;36m1\u001b[0m\u001b[0;34m]\u001b[0m\u001b[0;34m,\u001b[0m \u001b[0mlines\u001b[0m\u001b[0;34m=\u001b[0m\u001b[0mcosp\u001b[0m\u001b[0;34m.\u001b[0m\u001b[0mhislines\u001b[0m\u001b[0;34m,\u001b[0m\u001b[0;34m\u001b[0m\u001b[0m\n\u001b[0;32m----> 4\u001b[0;31m     compare_lines=cosp.hislines, minimizer='brute')\n\u001b[0m\u001b[1;32m      5\u001b[0m \u001b[0mplt\u001b[0m\u001b[0;34m.\u001b[0m\u001b[0mshow\u001b[0m\u001b[0;34m(\u001b[0m\u001b[0;34m)\u001b[0m\u001b[0;34m\u001b[0m\u001b[0m\n",
      "\u001b[0;32m/home/trive/Arbejde/Haro11Cos/Code/cospaper.pyc\u001b[0m in \u001b[0;36mmake_cover_frac_plots\u001b[0;34m(indict, lines, compare_lines, minimizer, inveldf, return_brutedict)\u001b[0m\n\u001b[1;32m   1310\u001b[0m         \u001b[0mdf\u001b[0m \u001b[0;34m=\u001b[0m \u001b[0mindict\u001b[0m\u001b[0;34m[\u001b[0m\u001b[0mlarsno\u001b[0m\u001b[0;34m]\u001b[0m\u001b[0;34m\u001b[0m\u001b[0m\n\u001b[1;32m   1311\u001b[0m         \u001b[0;31m# Make sure all lines are present\u001b[0m\u001b[0;34m\u001b[0m\u001b[0;34m\u001b[0m\u001b[0m\n\u001b[0;32m-> 1312\u001b[0;31m         \u001b[0mdf\u001b[0m \u001b[0;34m=\u001b[0m \u001b[0mnormalize_lines\u001b[0m\u001b[0;34m(\u001b[0m\u001b[0mdf\u001b[0m\u001b[0;34m,\u001b[0m \u001b[0mlineslist\u001b[0m\u001b[0;34m=\u001b[0m\u001b[0multilist\u001b[0m\u001b[0;34m)\u001b[0m  \u001b[0;31m# Ulti right choice?\u001b[0m\u001b[0;34m\u001b[0m\u001b[0m\n\u001b[0m\u001b[1;32m   1313\u001b[0m         \u001b[0;31m# Now, check that at least one of the lines requested for the covering\u001b[0m\u001b[0;34m\u001b[0m\u001b[0;34m\u001b[0m\u001b[0m\n\u001b[1;32m   1314\u001b[0m         \u001b[0;31m# fraction calculations exists. Why not two? Because the later code\u001b[0m\u001b[0;34m\u001b[0m\u001b[0;34m\u001b[0m\u001b[0m\n",
      "\u001b[0;32m/home/trive/Arbejde/Haro11Cos/Code/cospaper.pyc\u001b[0m in \u001b[0;36mnormalize_lines\u001b[0;34m(indata, lineslist, overwrite, smooth)\u001b[0m\n\u001b[1;32m    453\u001b[0m     \u001b[0mof\u001b[0m \u001b[0mlines\u001b[0m \u001b[0;32min\u001b[0m \u001b[0mthe\u001b[0m \u001b[0mformat\u001b[0m \u001b[0;34m\"At ION xxxxx\"\u001b[0m \u001b[0;32mand\u001b[0m \u001b[0msends\u001b[0m \u001b[0mit\u001b[0m \u001b[0mthrough\u001b[0m \u001b[0mnormalize_line\u001b[0m\u001b[0;34m(\u001b[0m\u001b[0;34m)\u001b[0m\u001b[0;34m\u001b[0m\u001b[0m\n\u001b[1;32m    454\u001b[0m     '''\n\u001b[0;32m--> 455\u001b[0;31m     \u001b[0;32mprint\u001b[0m \u001b[0mindata\u001b[0m\u001b[0;34m.\u001b[0m\u001b[0mz_value\u001b[0m\u001b[0;34m,\u001b[0m \u001b[0;34m'normalize_lines'\u001b[0m\u001b[0;34m\u001b[0m\u001b[0m\n\u001b[0m\u001b[1;32m    456\u001b[0m     \u001b[0;31m# import ipdb; ipdb.set_trace()  # XXX BREAKPOINT\u001b[0m\u001b[0;34m\u001b[0m\u001b[0;34m\u001b[0m\u001b[0m\n\u001b[1;32m    457\u001b[0m     \u001b[0;32mfor\u001b[0m \u001b[0mi\u001b[0m \u001b[0;32min\u001b[0m \u001b[0mlineslist\u001b[0m\u001b[0;34m:\u001b[0m\u001b[0;34m\u001b[0m\u001b[0m\n",
      "\u001b[0;32m/home/trive/anaconda2/lib/python2.7/site-packages/pandas/core/generic.pyc\u001b[0m in \u001b[0;36m__getattr__\u001b[0;34m(self, name)\u001b[0m\n\u001b[1;32m   2670\u001b[0m             \u001b[0;32mif\u001b[0m \u001b[0mname\u001b[0m \u001b[0;32min\u001b[0m \u001b[0mself\u001b[0m\u001b[0;34m.\u001b[0m\u001b[0m_info_axis\u001b[0m\u001b[0;34m:\u001b[0m\u001b[0;34m\u001b[0m\u001b[0m\n\u001b[1;32m   2671\u001b[0m                 \u001b[0;32mreturn\u001b[0m \u001b[0mself\u001b[0m\u001b[0;34m[\u001b[0m\u001b[0mname\u001b[0m\u001b[0;34m]\u001b[0m\u001b[0;34m\u001b[0m\u001b[0m\n\u001b[0;32m-> 2672\u001b[0;31m             \u001b[0;32mreturn\u001b[0m \u001b[0mobject\u001b[0m\u001b[0;34m.\u001b[0m\u001b[0m__getattribute__\u001b[0m\u001b[0;34m(\u001b[0m\u001b[0mself\u001b[0m\u001b[0;34m,\u001b[0m \u001b[0mname\u001b[0m\u001b[0;34m)\u001b[0m\u001b[0;34m\u001b[0m\u001b[0m\n\u001b[0m\u001b[1;32m   2673\u001b[0m \u001b[0;34m\u001b[0m\u001b[0m\n\u001b[1;32m   2674\u001b[0m     \u001b[0;32mdef\u001b[0m \u001b[0m__setattr__\u001b[0m\u001b[0;34m(\u001b[0m\u001b[0mself\u001b[0m\u001b[0;34m,\u001b[0m \u001b[0mname\u001b[0m\u001b[0;34m,\u001b[0m \u001b[0mvalue\u001b[0m\u001b[0;34m)\u001b[0m\u001b[0;34m:\u001b[0m\u001b[0;34m\u001b[0m\u001b[0m\n",
      "\u001b[0;31mAttributeError\u001b[0m: 'Series' object has no attribute 'z_value'"
     ]
    }
   ],
   "source": [
    "thedict[1].z_value = z\n",
    "vfhisHaro = cosp.make_cover_frac_plots(\n",
    "    thedict[1], lines=cosp.hislines, \n",
    "    compare_lines=cosp.hislines, minimizer='brute')\n",
    "plt.show()"
   ]
  },
  {
   "cell_type": "code",
   "execution_count": 11,
   "metadata": {
    "collapsed": false
   },
   "outputs": [],
   "source": [
    "plt.show()"
   ]
  },
  {
   "cell_type": "code",
   "execution_count": 4,
   "metadata": {
    "collapsed": false
   },
   "outputs": [],
   "source": [
    "reload(cosp)\n",
    "cosp.single_coverfrac_plot(\n",
    "    vfhisHaro[1], dotcolor=cosp.paircolors[7], \n",
    "    barcolor=cosp.paircolors[6], species='Si_IV')"
   ]
  },
  {
   "cell_type": "markdown",
   "metadata": {},
   "source": [
    "Finally, save the results so far (the below procedures might crash, and we do not want to redo all this if we can avoid it...)"
   ]
  },
  {
   "cell_type": "code",
   "execution_count": 68,
   "metadata": {
    "collapsed": false
   },
   "outputs": [],
   "source": [
    "cosp.pickle_df(vflisHaro, filename='Haro11/vflis.pickle')\n",
    "cosp.pickle_df(vfhisHaro, filename='Haro11/vfhis.pickle')"
   ]
  },
  {
   "cell_type": "markdown",
   "metadata": {},
   "source": [
    "### Better line profile plots"
   ]
  },
  {
   "cell_type": "code",
   "execution_count": 10,
   "metadata": {
    "collapsed": false
   },
   "outputs": [
    {
     "data": {
      "text/plain": [
       "Index([u'Velocity', u'Si_II_1304_Flam', u'Si_II_1304_Stddev',\n",
       "       u'Si_II_1304_Mask', u'Si_II_1526_Flam', u'Si_II_1526_Stddev',\n",
       "       u'Si_II_1526_Mask', u'Si_II_1260_Flam', u'Si_II_1260_Stddev',\n",
       "       u'Si_II_1260_Mask', u'Si_II_CovFrac_map', u'Si_II_CovFrac_err',\n",
       "       u'Si_II_CovFrac_lo_err', u'Si_II_ColDens_map', u'Si_II_ColDens_err',\n",
       "       u'Si_II_ColDens_lo_err', u'Si_II_CovFrac_Xsq', u'Si_II_NumLines',\n",
       "       u'O_I_1302_Flam', u'O_I_1302_Stddev', u'O_I_1302_Mask',\n",
       "       u'C_II_1334_Flam', u'C_II_1334_Stddev', u'C_II_1334_Mask',\n",
       "       u'MeanProfile', u'MeanErrors'],\n",
       "      dtype='object', name=u'Haro11C')"
      ]
     },
     "execution_count": 10,
     "metadata": {},
     "output_type": "execute_result"
    }
   ],
   "source": [
    "vflis[1].columns"
   ]
  },
  {
   "cell_type": "code",
   "execution_count": 63,
   "metadata": {
    "collapsed": false
   },
   "outputs": [],
   "source": [
    "fig, axs = plt.subplots(2, 1)\n",
    "dflis = vflis[1]\n",
    "velis = dflis.Velocity\n",
    "dfhis = vfhis[1]\n",
    "vehis = dfhis.Velocity\n",
    "\n",
    "coldict = {'Si_II_1304':cosp.paircolors[1], \n",
    "           'Si_II_1526':cosp.paircolors[3],\n",
    "           'Si_II_1260':cosp.paircolors[9],\n",
    "           'O_I_1302': 'k',\n",
    "           'C_II_1334': 'gray',\n",
    "           'Si_IV_1393':cosp.paircolors[5],\n",
    "           'Si_IV_1402':cosp.paircolors[7]\n",
    "          }\n",
    "\n",
    "lislines = ['Si_II_1304', 'Si_II_1526', \n",
    "            'Si_II_1260','O_I_1302', 'C_II_1334']# 'Si_III_1206']\n",
    "hislines = ['Si_IV_1393', 'Si_IV_1402']\n",
    "ax = axs[0]\n",
    "for line in lislines:\n",
    "    data = dflis['{}_Flam'.format(line)]\n",
    "    data = sp.convolve(data, sp.ones(5)/5., mode='same')\n",
    "    mask = dflis['{}_Mask'.format(line)]\n",
    "    dm = sp.ma.masked_array(data, mask=sp.invert(mask))\n",
    "    md = sp.ma.masked_array(data, mask=mask)\n",
    "    line = ax.plot(velis, dm, drawstyle='steps-mid', label=line.replace('_', ' '), \n",
    "                  color=coldict[line])\n",
    "    ax.plot(velis, md, drawstyle='steps-mid', ls='--', color=line[0].get_color())\n",
    "ax.axhline(y=1, lw=.8, color='k', ls='--')\n",
    "ax.axvline(x=0, lw=.8, color='k', ls='--')\n",
    "ax.axis((-1050, 1050, 0, 1.5))\n",
    "ax.legend(loc='lower right', frameon=True)\n",
    "ax.label_outer()\n",
    "ax.annotate('Haro 11 C', (-1000, 1.3), size='large')\n",
    "ax.set_ylabel('Relative flux')\n",
    "#fig, ax = plt.subplots(1, 1)\n",
    "ax = axs[1]\n",
    "for line in hislines:\n",
    "    data = dfhis['{}_Flam'.format(line)]\n",
    "    data = sp.convolve(data, sp.ones(5)/5., mode='same')\n",
    "    mask = dfhis['{}_Mask'.format(line)]\n",
    "    dm = sp.ma.masked_array(data, mask=sp.invert(mask))\n",
    "    md = sp.ma.masked_array(data, mask=mask)\n",
    "    line = ax.plot(vehis, dm, drawstyle='steps-mid', label=line.replace('_', ' '),\n",
    "                  color=coldict[line])\n",
    "    ax.plot(vehis, md, drawstyle='steps-mid', ls='--', color=line[0].get_color())\n",
    "ax.axhline(y=1, lw=.8, color='k', ls='--')\n",
    "ax.axvline(x=0, lw=.8, color='k', ls='--')\n",
    "ax.axis((-1050, 1050, 0, 1.5))\n",
    "ax.legend(loc='lower right', frameon=True)\n",
    "ax.set_xlabel('Velocity [km s$^{-1}$]')\n",
    "ax.set_ylabel('Relative flux')\n",
    "plt.subplots_adjust(hspace=.05)\n",
    "#fig.savefig('../Figs/HISLISProfiles.pdf')\n",
    "#fig.savefig('../Figs/HISLISProfiles.png', dpi=300)\n",
    "plt.show()"
   ]
  },
  {
   "cell_type": "markdown",
   "metadata": {},
   "source": [
    "## Phase comparison plot\n",
    "\n",
    "*From here, it is not about running Tololo 1247 through the ordinary LARS machinery anymore, but simply about a few custom made thingies.*\n",
    "\n",
    "### Plot comparing average Si IV and LIS profiles:\n",
    "\n",
    "First, some data juggling:"
   ]
  },
  {
   "cell_type": "code",
   "execution_count": 15,
   "metadata": {
    "collapsed": false
   },
   "outputs": [],
   "source": [
    "lisfile = open('Haro11/vflis.pickle')\n",
    "vflisHaro = pickle.load(lisfile)\n",
    "lisfile.close()\n",
    "\n",
    "hisfile = open('Haro11/vfhis.pickle')\n",
    "vfhisHaro = pickle.load(hisfile)\n",
    "hisfile.close()\n",
    "\n",
    "vflisHaro[1].z_value = z\n",
    "vfhisHaro[1].z_value = z"
   ]
  },
  {
   "cell_type": "markdown",
   "metadata": {},
   "source": [
    "Here's first a version **with** errorfills, **with** smoothing:"
   ]
  },
  {
   "cell_type": "code",
   "execution_count": 13,
   "metadata": {
    "collapsed": false
   },
   "outputs": [],
   "source": [
    "lisvels = vflisHaro[1].Velocity\n",
    "hisvels = vfhisHaro[1].Velocity\n",
    "lismean = vflisHaro[1].MeanProfile\n",
    "hismean = vfhisHaro[1].MeanProfile\n",
    "liserrs = vflisHaro[1].MeanErrors\n",
    "hiserrs = vfhisHaro[1].MeanErrors\n",
    "\n",
    "lismean = sp.convolve(lismean, sp.ones(5)/5., mode='same')\n",
    "liserrs = sp.convolve(liserrs, sp.ones(5)/5., mode='same')\n",
    "hismean = sp.convolve(hismean, sp.ones(5)/5., mode='same')\n",
    "hiserrs = sp.convolve(hiserrs, sp.ones(5)/5., mode='same')"
   ]
  },
  {
   "cell_type": "code",
   "execution_count": 15,
   "metadata": {
    "collapsed": false
   },
   "outputs": [],
   "source": [
    "#hisvels"
   ]
  },
  {
   "cell_type": "code",
   "execution_count": 21,
   "metadata": {
    "collapsed": false
   },
   "outputs": [],
   "source": [
    "fig, ax = plt.subplots(1)\n",
    "reload(mp)\n",
    "ax.plot(hisvels, hismean, #vfhisTololo[1].MeanProfile,\n",
    "        label='Mean Si IV profile', drawstyle='steps-post', \n",
    "        color=cosp.paircolors[3], lw=2.5, zorder=1)\n",
    "mp.fill_between_steps(hisvels.values, hismean+hiserrs, hismean-hiserrs, \n",
    "                      color=cosp.paircolors[2], alpha=.6, \n",
    "                      edgecolor=cosp.paircolors[3], zorder=0)\n",
    "ax.plot(lisvels, lismean, #vflisTololo[1].MeanProfile, \n",
    "        label='Mean LIS profile', drawstyle='steps-post', \n",
    "        color=cosp.paircolors[11], lw=2.5, zorder=4)\n",
    "mp.fill_between_steps(lisvels.values, lismean+liserrs, lismean-liserrs, \n",
    "                      color=cosp.paircolors[10], alpha=.7, h_align='right',\n",
    "                      edgecolor=cosp.paircolors[11], zorder=3)\n",
    "\n",
    "ax.axhline(y=1., lw=1., color='k', ls='--')\n",
    "ax.axhline(y=0., lw=1., color='k', ls='-' )\n",
    "ax.axvline(x=0., lw=1., color='k', ls='--')\n",
    "ax.axis((-850, 450, 0., 1.6))\n",
    "ax.legend(fancybox=True, shadow=True, loc='upper left')\n",
    "ax.xaxis.set_tick_params(labelsize='x-large')\n",
    "ax.yaxis.set_tick_params(labelsize='x-large')\n",
    "ax.set_xlabel('Velocity [km/s]')\n",
    "ax.set_ylabel('Relative flux')\n",
    "# display(gcf())\n",
    "plt.show()"
   ]
  },
  {
   "cell_type": "code",
   "execution_count": 19,
   "metadata": {
    "collapsed": false
   },
   "outputs": [
    {
     "data": {
      "text/plain": [
       "Index([u'Velocity', u'Si_IV_1393_Flam', u'Si_IV_1393_Stddev', u'Si_IV_1393_Mask', u'Si_IV_1402_Flam', u'Si_IV_1402_Stddev', u'Si_IV_1402_Mask', u'Si_IV_CovFrac_map', u'Si_IV_CovFrac_err', u'Si_IV_CovFrac_lo_err', u'Si_IV_ColDens_map', u'Si_IV_ColDens_err', u'Si_IV_ColDens_lo_err', u'Si_IV_CovFrac_Xsq', u'Si_IV_NumLines', u'MeanProfile', u'MeanErrors'], dtype='object')"
      ]
     },
     "execution_count": 19,
     "metadata": {},
     "output_type": "execute_result"
    }
   ],
   "source": [
    "vfhisHaro[1].columns"
   ]
  },
  {
   "cell_type": "code",
   "execution_count": 19,
   "metadata": {
    "collapsed": false
   },
   "outputs": [],
   "source": [
    "fig, axs = plt.subplots(2, 1)\n",
    "lisvels = vflisHaro[1].Velocity\n",
    "hisvels = vfhisHaro[1].Velocity\n",
    "hiscofr = vfhisHaro[1].Si_IV_CovFrac_map\n",
    "liscofr = vflisHaro[1].Si_II_CovFrac_map\n",
    "hiscfer = vfhisHaro[1].Si_IV_CovFrac_err\n",
    "liscfer = vflisHaro[1].Si_II_CovFrac_err\n",
    "\n",
    "ax = axs[0]\n",
    "mp.fill_between_steps(hisvels.values, hiscofr + hiscfer, y2=hiscofr.values - vfhisHaro[1].Si_IV_CovFrac_lo_err.values, \n",
    "                      ax=ax, color='b', alpha=.5)\n",
    "ax.plot(hisvels, hiscofr, 'bo', mec='b', ms=8, )\n",
    "#ax.plot(lisvels, liscofr, 'o', color='orange', ms=8, mec='orange')\n",
    "\n",
    "ax = axs[1]\n",
    "mp.fill_between_steps(lisvels.values, liscofr + liscfer, y2=liscofr.values - vflisHaro[1].Si_II_CovFrac_lo_err.values, \n",
    "                      ax=ax, color='orange', alpha=.5)\n",
    "ax.plot(lisvels, liscofr, 'o', color='orange', mec='orange', ms=8, )\n",
    "#ax.fill_between(hisvels, hiscfer, color='blue', )\n",
    "#ax.fill_between(lisvels, liscfer, color='orange',)\n",
    "\n",
    "plt.show()\n"
   ]
  },
  {
   "cell_type": "raw",
   "metadata": {},
   "source": [
    "mp.fill\n"
   ]
  },
  {
   "cell_type": "raw",
   "metadata": {},
   "source": []
  },
  {
   "cell_type": "code",
   "execution_count": null,
   "metadata": {
    "collapsed": false
   },
   "outputs": [],
   "source": []
  },
  {
   "cell_type": "markdown",
   "metadata": {},
   "source": [
    "...And now a version **with** errorfills, **without** smoothing:"
   ]
  },
  {
   "cell_type": "code",
   "execution_count": 20,
   "metadata": {
    "collapsed": false
   },
   "outputs": [
    {
     "ename": "NameError",
     "evalue": "name 'vflisTololo' is not defined",
     "output_type": "error",
     "traceback": [
      "\u001b[0;31m---------------------------------------------------------------------------\u001b[0m",
      "\u001b[0;31mNameError\u001b[0m                                 Traceback (most recent call last)",
      "\u001b[0;32m<ipython-input-20-147937b6461e>\u001b[0m in \u001b[0;36m<module>\u001b[0;34m()\u001b[0m\n\u001b[0;32m----> 1\u001b[0;31m \u001b[0mlisvels\u001b[0m \u001b[0;34m=\u001b[0m \u001b[0mvflisTololo\u001b[0m\u001b[0;34m[\u001b[0m\u001b[0;36m1\u001b[0m\u001b[0;34m]\u001b[0m\u001b[0;34m.\u001b[0m\u001b[0mVelocity\u001b[0m\u001b[0;34m\u001b[0m\u001b[0m\n\u001b[0m\u001b[1;32m      2\u001b[0m \u001b[0mhisvels\u001b[0m \u001b[0;34m=\u001b[0m \u001b[0mvfhisTololo\u001b[0m\u001b[0;34m[\u001b[0m\u001b[0;36m1\u001b[0m\u001b[0;34m]\u001b[0m\u001b[0;34m.\u001b[0m\u001b[0mVelocity\u001b[0m\u001b[0;34m\u001b[0m\u001b[0m\n\u001b[1;32m      3\u001b[0m \u001b[0mlismean\u001b[0m \u001b[0;34m=\u001b[0m \u001b[0mvflisTololo\u001b[0m\u001b[0;34m[\u001b[0m\u001b[0;36m1\u001b[0m\u001b[0;34m]\u001b[0m\u001b[0;34m.\u001b[0m\u001b[0mMeanProfile\u001b[0m\u001b[0;34m\u001b[0m\u001b[0m\n\u001b[1;32m      4\u001b[0m \u001b[0mhismean\u001b[0m \u001b[0;34m=\u001b[0m \u001b[0mvfhisTololo\u001b[0m\u001b[0;34m[\u001b[0m\u001b[0;36m1\u001b[0m\u001b[0;34m]\u001b[0m\u001b[0;34m.\u001b[0m\u001b[0mMeanProfile\u001b[0m\u001b[0;34m\u001b[0m\u001b[0m\n\u001b[1;32m      5\u001b[0m \u001b[0mliserrs\u001b[0m \u001b[0;34m=\u001b[0m \u001b[0mvflisTololo\u001b[0m\u001b[0;34m[\u001b[0m\u001b[0;36m1\u001b[0m\u001b[0;34m]\u001b[0m\u001b[0;34m.\u001b[0m\u001b[0mMeanErrors\u001b[0m\u001b[0;34m\u001b[0m\u001b[0m\n",
      "\u001b[0;31mNameError\u001b[0m: name 'vflisTololo' is not defined"
     ]
    }
   ],
   "source": [
    "lisvels = vflisTololo[1].Velocity\n",
    "hisvels = vfhisTololo[1].Velocity\n",
    "lismean = vflisTololo[1].MeanProfile\n",
    "hismean = vfhisTololo[1].MeanProfile\n",
    "liserrs = vflisTololo[1].MeanErrors\n",
    "hiserrs = vfhisTololo[1].MeanErrors\n",
    "\n",
    "lismean = sp.convolve(lismean, sp.ones(1)/1., mode='same')\n",
    "liserrs = sp.convolve(liserrs, sp.ones(1)/1., mode='same')\n",
    "hismean = sp.convolve(hismean, sp.ones(1)/1., mode='same')\n",
    "hiserrs = sp.convolve(hiserrs, sp.ones(1)/1., mode='same')"
   ]
  },
  {
   "cell_type": "code",
   "execution_count": 4,
   "metadata": {
    "collapsed": false
   },
   "outputs": [],
   "source": [
    "reload(mp)\n",
    "reload(cosp)\n",
    "fig, ax = plt.subplots(1)\n",
    "\n",
    "ax.plot(hisvels, vfhisTololo[1].MeanProfile,\n",
    "        label='Mean Si IV profile', drawstyle='steps-mid', \n",
    "        color=cosp.paircolors[3], lw=2.5, zorder=1)\n",
    "mp.fill_between_steps(hisvels, hismean+hiserrs, hismean-hiserrs, \n",
    "                      color=cosp.paircolors[2], alpha=.6, \n",
    "                      edgecolor=cosp.paircolors[3], zorder=0)\n",
    "ax.plot(lisvels, vflisTololo[1].MeanProfile, \n",
    "        label='Mean LIS profile', drawstyle='steps-mid', \n",
    "        color=cosp.paircolors[11], lw=2.5, zorder=4)\n",
    "mp.fill_between_steps(lisvels, lismean-liserrs, lismean+liserrs, \n",
    "                      color=cosp.paircolors[10], alpha=.7, \n",
    "                      edgecolor=cosp.paircolors[11], zorder=3)\n",
    "\n",
    "ax.axhline(y=1., lw=1., color='k', ls='--')\n",
    "ax.axhline(y=0., lw=1., color='k', ls='-')\n",
    "ax.axvline(x=0., lw=1., color='k', ls='--')\n",
    "ax.axis((-850, 450, 0., 1.6))\n",
    "ax.legend(fancybox=True, shadow=True, loc='upper left')\n",
    "ax.xaxis.set_tick_params(labelsize='x-large')\n",
    "ax.yaxis.set_tick_params(labelsize='x-large')\n",
    "ax.set_xlabel('Velocity [km/s]')\n",
    "ax.set_ylabel('Relative flux')\n",
    "# display(gcf())\n",
    "plt.show()"
   ]
  },
  {
   "cell_type": "code",
   "execution_count": 15,
   "metadata": {
    "collapsed": false
   },
   "outputs": [],
   "source": []
  },
  {
   "cell_type": "code",
   "execution_count": 14,
   "metadata": {
    "collapsed": false
   },
   "outputs": [
    {
     "data": {
      "image/png": "[encoded data removed]",
      "text/plain": [
       "<matplotlib.figure.Figure at 0x7801210>"
      ]
     },
     "metadata": {},
     "output_type": "display_data"
    }
   ],
   "source": [
    "display(gcf())"
   ]
  },
  {
   "cell_type": "code",
   "execution_count": 7,
   "metadata": {
    "collapsed": false
   },
   "outputs": [],
   "source": [
    "fig, ax = plt.subplots(1)\n",
    "\n",
    "ax.plot(vfhisTololo[1].Velocity, vfhisTololo[1].MeanProfile,\n",
    "        label='Mean Si IV profile', drawstyle='steps-mid', \n",
    "        color=cosp.paircolors[3], lw=2.5, zorder=1)\n",
    "# mp.fill_between_steps(hisvels, hismean+hiserrs, hismean-hiserrs, \n",
    "#                       color=cosp.paircolors[2], alpha=.6, \n",
    "#                       edgecolor=cosp.paircolors[3], zorder=0)\n",
    "\n",
    "ax.plot(vflisTololo[1].Velocity, vflisTololo[1].MeanProfile, \n",
    "        label='Mean LIS profile', drawstyle='steps-mid', \n",
    "        color=cosp.paircolors[11], lw=2.5, zorder=4)\n",
    "# mp.fill_between_steps(lisvels, lismean+liserrs, lismean-liserrs, \n",
    "#                       color=cosp.paircolors[10], alpha=.7, \n",
    "#                       edgecolor=cosp.paircolors[11], zorder=3)\n",
    "\n",
    "ax.axhline(y=1., lw=1., color='k', ls='--')\n",
    "ax.axhline(y=0., lw=1., color='k', ls='-')\n",
    "ax.axvline(x=0., lw=1., color='k', ls='--')\n",
    "ax.axis((-850, 450, 0., 1.6))\n",
    "ax.legend(fancybox=True, shadow=True, loc='upper left')\n",
    "ax.set_xlabel('Velocity [km/s]')\n",
    "ax.set_ylabel('Relative flux')\n",
    "plt.show()"
   ]
  },
  {
   "cell_type": "code",
   "execution_count": null,
   "metadata": {
    "collapsed": false
   },
   "outputs": [],
   "source": []
  }
 ],
 "metadata": {
  "anaconda-cloud": {},
  "kernelspec": {
   "display_name": "Python [default]",
   "language": "python",
   "name": "python2"
  },
  "language_info": {
   "codemirror_mode": {
    "name": "ipython",
    "version": 2
   },
   "file_extension": ".py",
   "mimetype": "text/x-python",
   "name": "python",
   "nbconvert_exporter": "python",
   "pygments_lexer": "ipython2",
   "version": "2.7.12"
  }
 },
 "nbformat": 4,
 "nbformat_minor": 0
}

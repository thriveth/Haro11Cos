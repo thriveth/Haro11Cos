{
 "cells": [
  {
   "cell_type": "code",
   "execution_count": 15,
   "metadata": {
    "collapsed": false
   },
   "outputs": [
    {
     "name": "stdout",
     "output_type": "stream",
     "text": [
      "Populating the interactive namespace from numpy and matplotlib\n"
     ]
    }
   ],
   "source": [
    "import aplpy\n",
    "from astropy.io import fits\n",
    "import scipy.ndimage as nd\n",
    "from astropy import units as u\n",
    "import numpy as np\n",
    "from astropy.cosmology import FlatLambdaCDM, Planck13\n",
    "from astropy.coordinates import SkyCoord\n",
    "%pylab qt4"
   ]
  },
  {
   "cell_type": "code",
   "execution_count": 2,
   "metadata": {
    "collapsed": true
   },
   "outputs": [],
   "source": [
    "haroz = 0.020598\n",
    "esoz = 0.009453"
   ]
  },
  {
   "cell_type": "code",
   "execution_count": 6,
   "metadata": {
    "collapsed": true
   },
   "outputs": [],
   "source": [
    "#aplpy.FITSFigure?"
   ]
  },
  {
   "cell_type": "code",
   "execution_count": 4,
   "metadata": {
    "collapsed": false
   },
   "outputs": [
    {
     "name": "stdout",
     "output_type": "stream",
     "text": [
      "1.00197870059 kpc\n",
      "2.15384416067 kpc\n"
     ]
    }
   ],
   "source": [
    "#Cosmos = FlatLambdaCDM(70.0, 0.3)\n",
    "Cosmos = Planck13\n",
    "HaroADD = Cosmos.angular_diameter_distance(haroz)\n",
    "EsoADD = Cosmos.angular_diameter_distance(esoz)\n",
    "\n",
    "esoang = 0.194 * u.kpc / EsoADD.to(u.kpc) * u.radian\n",
    "haroang = 0.418 * u.kpc / HaroADD.to(u.kpc) * u.radian\n",
    "\n",
    "esoang = esoang.to(u.arcsec)\n",
    "haroang = haroang.to(u.arcsec)\n",
    "\n",
    "esolen = (EsoADD * (5. * u.arcsec).to(u.radian) / (1 * u.radian)).to(u.kpc)\n",
    "harolen = (HaroADD * (5. * u.arcsec).to(u.radian) / (1 * u.radian)).to(u.kpc)\n",
    "print(esolen)\n",
    "print(harolen)"
   ]
  },
  {
   "cell_type": "code",
   "execution_count": 5,
   "metadata": {
    "collapsed": true
   },
   "outputs": [],
   "source": [
    "#FlatLambdaCDM?"
   ]
  },
  {
   "cell_type": "code",
   "execution_count": 8,
   "metadata": {
    "collapsed": false
   },
   "outputs": [],
   "source": [
    "esoLya = fits.open('../ImageData/eso_lya.fits')\n",
    "esoHa = fits.open('../ImageData/eso_ha.fits')\n",
    "esoCont = fits.open('../ImageData/eso_lyac.fits')\n",
    "\n",
    "haroLya = fits.open('../ImageData/haro_lya.fits')\n",
    "haroHa = fits.open('../ImageData/haro_ha.fits')\n",
    "haroCont = fits.open('../ImageData/haro_hac.fits')"
   ]
  },
  {
   "cell_type": "code",
   "execution_count": 10,
   "metadata": {
    "collapsed": false
   },
   "outputs": [],
   "source": [
    "esoLyaSmooth = esoLya[0].copy()\n",
    "esoLyaSmooth.data = nd.gaussian_filter(esoLyaSmooth.data, 5, mode='constant', cval=0)\n",
    "esoLyaSmooth.writeto('./ImageData/eso_lya_smooth.fits', clobber=True)"
   ]
  },
  {
   "cell_type": "code",
   "execution_count": 10,
   "metadata": {
    "collapsed": false
   },
   "outputs": [],
   "source": [
    "haroLyaSmooth = haroLya[0].copy()\n",
    "haroLyaSmooth.data = nd.gaussian_filter(haroLyaSmooth.data, 4, mode='constant', cval=0)\n",
    "haroLyaSmooth.writeto('../ImageData/haro_lya_smooth.fits', clobber=True)"
   ]
  },
  {
   "cell_type": "code",
   "execution_count": 35,
   "metadata": {
    "collapsed": false
   },
   "outputs": [
    {
     "data": {
      "text/plain": [
       "<SkyCoord (ICRS): (ra, dec) in deg\n",
       "    (9.218625, -33.55461111)>"
      ]
     },
     "execution_count": 35,
     "metadata": {},
     "output_type": "execute_result"
    }
   ],
   "source": [
    "## Haro 11 COS aperture:\n",
    "c = SkyCoord(\n",
    "    ra='0h36m52.47s', \n",
    "    dec='-33d33m16.6s', \n",
    "    frame='icrs'\n",
    ")\n",
    "c"
   ]
  },
  {
   "cell_type": "code",
   "execution_count": 18,
   "metadata": {
    "collapsed": true
   },
   "outputs": [],
   "source": [
    "#slitfig = figure(figsize=(13, 6))"
   ]
  },
  {
   "cell_type": "code",
   "execution_count": 13,
   "metadata": {
    "collapsed": false,
    "scrolled": true
   },
   "outputs": [],
   "source": [
    "#esofig = aplpy.FITSFigure('./ImageData/eso_lya.fits', figure=slitfig, subplot=(1, 2, 1))\n",
    "#a = gca()\n",
    "#a.set_xbound(650, 1400)\n",
    "#a.set_ybound(600, 1350)\n",
    "#esofig.set_title('ESO 338-IG04', family='serif')\n",
    "#esofig.show_rgb('./ImageData/eso_rgb.png',)# interpolation='bilinear')\n",
    "#esofig.show_regions('./ImageData/ESOslit.reg')\n",
    "#esofig.add_scalebar(5 * u.arcsec)\n",
    "#esofig.scalebar.show(5 * u.arcsec)\n",
    "#esofig.scalebar.set_label(r'5\" $\\approx$ {:.02f}'.format(esolen))\n",
    "#esofig.scalebar.set_color('white')\n",
    "#esofig.scalebar.set_font(size='large')\n",
    "#esofig.tick_labels.set_style('colons')\n",
    "#esofig.axis_labels.set_font(size='large', family='serif')\n",
    "#sofig.tick_labels.set_font(size='large', family='serif')\n",
    "#esofig.set_tick_xspacing(1./600)\n",
    "##esofig.ticks.set_color('black')\n",
    "##esofig.save('./Figures/ESOslit.png')\n",
    "##esofig.save('./Figures/ESOslit.pdf')"
   ]
  },
  {
   "cell_type": "code",
   "execution_count": 14,
   "metadata": {
    "collapsed": false
   },
   "outputs": [
    {
     "name": "stdout",
     "output_type": "stream",
     "text": [
      "INFO: Red: [aplpy.rgb]\n",
      "INFO: vmin = -7.451e-21 (auto) [aplpy.rgb]\n",
      "INFO: vmax =  1.600e-18 [aplpy.rgb]\n",
      "INFO: Green: [aplpy.rgb]\n",
      "INFO: vmin =  1.000e-22 [aplpy.rgb]\n",
      "INFO: vmax =  8.000e-19 [aplpy.rgb]\n",
      "INFO: Blue: [aplpy.rgb]\n"
     ]
    },
    {
     "name": "stderr",
     "output_type": "stream",
     "text": [
      "/home/trive/anaconda2/lib/python2.7/site-packages/aplpy/image_util.py:99: RuntimeWarning: invalid value encountered in sqrt\n",
      "  return np.sqrt(array)\n"
     ]
    },
    {
     "name": "stdout",
     "output_type": "stream",
     "text": [
      "INFO: vmin = -3.020e-20 (auto) [aplpy.rgb]\n",
      "INFO: vmax =  3.269e-19 (auto) [aplpy.rgb]\n"
     ]
    },
    {
     "name": "stderr",
     "output_type": "stream",
     "text": [
      "/home/trive/anaconda2/lib/python2.7/site-packages/aplpy/rgb.py:218: UserWarning: PyAVM 0.9.1 or later is not installed, so AVM tags will not be embedded in RGB image\n",
      "  warnings.warn(\"PyAVM 0.9.1 or later is not installed, so AVM tags will not be embedded in RGB image\")\n"
     ]
    }
   ],
   "source": [
    "aplpy.make_rgb_image(['../ImageData/haro_ha.fits', \n",
    "                      '../ImageData/haro_hac.fits', \n",
    "                      '../ImageData/haro_lya_smooth.fits'], \n",
    "                    '../ImageData/haro_rgb.png',  stretch_r='sqrt', stretch_g='sqrt', vmin_g=1e-22, vmax_g=8e-19, \n",
    "                     vmax_r=1.6e-18, pmax_b=99.95)"
   ]
  },
  {
   "cell_type": "code",
   "execution_count": 67,
   "metadata": {
    "collapsed": false,
    "scrolled": true
   },
   "outputs": [
    {
     "name": "stdout",
     "output_type": "stream",
     "text": [
      "INFO: Auto-setting resolution to 104.167 dpi [aplpy.core]\n"
     ]
    }
   ],
   "source": [
    "harofig = aplpy.FITSFigure('../ImageData/haro_lya.fits', figsize=(7, 6))\n",
    "a = gca()\n",
    "a.set_xbound(700, 1200)\n",
    "a.set_ybound(700, 1200)\n",
    "# harofig.set_title('Haro 11', family='serif')\n",
    "harofig.show_rgb('../ImageData/haro_rgb.png',)\n",
    "harofig.show_regions('../Data/H11COSaperture.reg')\n",
    "harofig.add_scalebar(5 * u.arcsec)\n",
    "harofig.scalebar.show(5 * u.arcsec)\n",
    "harofig.scalebar.set_label(r'5\" $\\approx$ {:.02f}'.format(harolen))\n",
    "harofig.scalebar.set_color('white')\n",
    "harofig.scalebar.set_font(size='large')\n",
    "harofig.axis_labels.set_font(size='x-large', family='serif')\n",
    "harofig.tick_labels.set_font(size='large', family='serif')\n",
    "harofig.tick_labels.set_style('colons')\n",
    "harofig.axis_labels.set_font(size='large', family='serif')\n",
    "harofig.tick_labels.set_font(size='large', family='serif')\n",
    "harofig.set_tick_xspacing(1./800)\n",
    "harofig.add_label(\n",
    "    0.79, 0.27, 'A', relative=True, color='white', \n",
    "    family='sans', size='xx-large'\n",
    ")\n",
    "harofig.add_label(\n",
    "    0.27, 0.42, 'C', relative=True, color='white', \n",
    "    family='sans', size='xx-large'\n",
    ")\n",
    "harofig.add_label(\n",
    "    0.71, 0.55, 'B', relative=True, color='white', \n",
    "    family='sans', size='xx-large'\n",
    ")\n",
    "#harofig.axis_labels.hide_y()\n",
    "harofig.show_circles(\n",
    "    [9.218625], [-33.55461111], 0.000347222, \n",
    "    color='w', linewidth=2\n",
    ")\n",
    "plt.subplots_adjust(left=.15, right=0.98)\n",
    "harofig.save('../Figs/Haroslit.png', dpi=300)\n",
    "harofig.save('../Figs/Haroslit.pdf')"
   ]
  },
  {
   "cell_type": "code",
   "execution_count": 229,
   "metadata": {
    "collapsed": false
   },
   "outputs": [],
   "source": [
    "\n",
    "#harofig.hide_grid()"
   ]
  },
  {
   "cell_type": "code",
   "execution_count": null,
   "metadata": {
    "collapsed": true
   },
   "outputs": [],
   "source": []
  }
 ],
 "metadata": {
  "kernelspec": {
   "display_name": "Python 2",
   "language": "python",
   "name": "python2"
  },
  "language_info": {
   "codemirror_mode": {
    "name": "ipython",
    "version": 2
   },
   "file_extension": ".py",
   "mimetype": "text/x-python",
   "name": "python",
   "nbconvert_exporter": "python",
   "pygments_lexer": "ipython2",
   "version": "2.7.11"
  }
 },
 "nbformat": 4,
 "nbformat_minor": 0
}

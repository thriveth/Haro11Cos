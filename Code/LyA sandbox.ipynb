{
 "cells": [
  {
   "cell_type": "code",
   "execution_count": 121,
   "metadata": {
    "collapsed": false
   },
   "outputs": [],
   "source": [
    "import cospaper as cosp\n",
    "import sys\n",
    "import scipy as sp\n",
    "import pandas as pd\n",
    "import matplotlib.pyplot as plt\n",
    "import statsmodels.nonparametric.kernel_regression as krg\n",
    "import statsmodels.api as sm\n",
    "from statsmodels.stats.outliers_influence import  summary_table\n",
    "from helper_functions import wl_to_v, v_to_wl, deltawl_to_v, v_to_deltawl\n",
    "#from LARS_branding import lbrand\n",
    "#import pyqt_fit as pqf\n",
    "#import pyqt_fit.kernel_smoothing as smooth"
   ]
  },
  {
   "cell_type": "code",
   "execution_count": 12,
   "metadata": {
    "collapsed": false
   },
   "outputs": [],
   "source": [
    "#vdict = cosp.load_dfdict('../Products/vflis.pickle')\n",
    "#wdict = cosp.load_dfdict('../Products/dfdict.pickle')\n",
    "vlisdict = pd.read_pickle('../Products/vflis.pickle')\n",
    "vhisdict = pd.read_pickle('../Products/vfhis.pickle')\n",
    "wdict = pd.read_pickle('../Products/dfdict.pickle')"
   ]
  },
  {
   "cell_type": "code",
   "execution_count": 20,
   "metadata": {
    "collapsed": false
   },
   "outputs": [],
   "source": [
    "wdict[1].z_value = 0.020434136\n",
    "vlisdict[1].z_value = 0.020434136\n",
    "vhisdict[1].z_value = 0.020434136"
   ]
  },
  {
   "cell_type": "code",
   "execution_count": 29,
   "metadata": {
    "collapsed": false
   },
   "outputs": [],
   "source": [
    "frame = wdict[1]\n",
    "plt.plot(frame['lambda'], frame.flam)\n",
    "plt.show()"
   ]
  },
  {
   "cell_type": "code",
   "execution_count": 119,
   "metadata": {
    "collapsed": false
   },
   "outputs": [
    {
     "name": "stdout",
     "output_type": "stream",
     "text": [
      "9.253416e-14\n"
     ]
    },
    {
     "data": {
      "text/plain": [
       "(1230, 1250, -1e-14, 1.4e-12)"
      ]
     },
     "execution_count": 119,
     "metadata": {},
     "output_type": "execute_result"
    }
   ],
   "source": [
    "cosp.show_spec(inframe=frame)\n",
    "plt.axvline(LyaWL * (1 + 0.020434136), color='k', linestyle='--')\n",
    "plt.axis((1230, 1250, -1e-14, 1.4e-12))"
   ]
  },
  {
   "cell_type": "code",
   "execution_count": 21,
   "metadata": {
    "collapsed": false
   },
   "outputs": [],
   "source": [
    "LyaWL = 1215.668"
   ]
  },
  {
   "cell_type": "code",
   "execution_count": 30,
   "metadata": {
    "collapsed": false
   },
   "outputs": [
    {
     "data": {
      "text/plain": [
       "1240.5091252428479"
      ]
     },
     "execution_count": 30,
     "metadata": {},
     "output_type": "execute_result"
    }
   ],
   "source": [
    "LyaWL * (1 + 0.020434136)"
   ]
  },
  {
   "cell_type": "code",
   "execution_count": 132,
   "metadata": {
    "collapsed": false
   },
   "outputs": [
    {
     "name": "stdout",
     "output_type": "stream",
     "text": [
      "Wave diff of Lya minumum:                              0.329125242848\n",
      "Wave diff of Lya peak:                                 0.630874757152\n",
      "Velocity of Lyalpha minimum:                           -79.5393306953\n",
      "Lya peak velocity:                                     152.462799578\n",
      "-v_LIS:                                                129.848497\n",
      "Sandberg 2013 redshift uncertainty in Ångström @ Lya:  0.0289652512763\n",
      "vlis uncertainty in Ångström @Lya                      0.0921733467481\n"
     ]
    }
   ],
   "source": [
    "wlmin_lya = 1240.18\n",
    "wlpeak_lya = 1241.14\n",
    "vlis = -129.848497\n",
    "print 'Wave diff of Lya minumum:                             ', 1240.5091252428479 - wlmin_lya\n",
    "print 'Wave diff of Lya peak:                                ', wlpeak_lya - 1240.5091252428479\n",
    "print 'Velocity of Lyalpha minimum:                          ', wl_to_v(wlmin_lya, 1240.5091252428479)\n",
    "print 'Lya peak velocity:                                    ', wl_to_v(wlpeak_lya, 1240.5091252428479)\n",
    "print '-v_LIS:                                               ', 129.848497\n",
    "print 'Sandberg 2013 redshift uncertainty in Ångström @ Lya: ', v_to_deltawl(7., 1240.5091252428479)\n",
    "print 'vlis uncertainty in Ångström @Lya                     ', v_to_deltawl(22.275430, 1240.5091252428479)"
   ]
  },
  {
   "cell_type": "markdown",
   "metadata": {},
   "source": [
    "$-v_{LIS}$ is consistent with  $v^{peak}_{Ly\\alpha}$, given the uncertainties in the former and in $z$. "
   ]
  },
  {
   "cell_type": "code",
   "execution_count": 102,
   "metadata": {
    "collapsed": false
   },
   "outputs": [],
   "source": [
    "def prettify(ax):\n",
    "    ax.tick_params(length=2, labelsize=9)\n",
    "    [j.set_linewidth(.6) for j in ax.spines.itervalues()]\n",
    "    ax.axhline(0, color='k', ls='--', lw=.5)\n",
    "    ax.axvline(0, color='k', ls='--', lw=.5)\n",
    "    return ax\n",
    "\n",
    "def LyA_vel(indata, larsno, degree=1, ax=plt.gca(), plotit=True, iterations=1):\n",
    "    '''indata must be dfdict, larsno must be one of the keys in dfdict.keys()'''\n",
    "    data = indata[larsno]\n",
    "    LyaWL = 1215.668\n",
    "    LyaWL *= (1+data.z_value)\n",
    "    vels = (data['lambda'] - LyaWL)/(LyaWL) * sp.constants.c / 1000\n",
    "    velidx = vels.between(-3000, 3000)\n",
    "    flux = data.flam[velidx]\n",
    "    vels = vels[velidx]\n",
    "    errs = data.stddev[velidx]\n",
    "    # For the sake of later Monte Carlo:\n",
    "    #plt.hist(errs)\n",
    "    errwidth = errs.std()\n",
    "    errmean = errs.mean()\n",
    "    print ' '\n",
    "    sys.stdout.write('\\rCross validating...')\n",
    "    mle = krg.KernelReg(flux, vels, var_type='c', bw='cv_ls')#[20])#bw='aic')\n",
    "    sys.stdout.flush()\n",
    "    #print '\\n'\n",
    "    #print 'Estimator: '\n",
    "    #print mle  #, type(mle)\n",
    "    means, mfx = mle.fit()\n",
    "    #realvel = vels(means.argmax())\n",
    "    kernelwidth = mle.bw[0]\n",
    "    kernel_widths = sp.linspace(kernelwidth / 2., kernelwidth * 1.5, 100)\n",
    "    velsteps = vels.ptp() / (vels.shape[0])-1.\n",
    "    vels_dict = {}\n",
    "    \n",
    "    count = 0\n",
    "    sys.stdout.write('\\r Estimating uncertainty...')\n",
    "    sys.stdout.flush()\n",
    "    print ' ' \n",
    "    while count < iterations:\n",
    "        kaunt = count+1\n",
    "        sys.stdout.flush()\n",
    "        sys.stdout.write('\\r Iteration: {}'.format(kaunt))\n",
    "        mcdata = flux.copy()\n",
    "        signs = sp.around(sp.random.random(len(mcdata)))\n",
    "        signs[signs == 0] = -1\n",
    "        # permute = sp.random.normal(errmean, errwidth, len(mcdata))\n",
    "        permute = [sp.random.normal(loc=0, scale=errs.iloc[i]) for i in range(len(errs))]\n",
    "        #print permute.shape, signs.shape, mcdata.shape\n",
    "        mcdata += (permute * signs)\n",
    "        mles = krg.KernelReg(mcdata, vels, var_type='c', bw=[kernelwidth])\n",
    "        model, mfx = mles.fit()\n",
    "        #print  vels.iloc[model.argmax()]#, model.shape,\n",
    "        #continue\n",
    "        # sys.stdout.write(' '.join([str(model.argmax()), str(vels)]))\n",
    "        vels_dict[kaunt] = [22., vels.iloc[model.argmax()]]\n",
    "        count += 1\n",
    "        \n",
    "    print '\\n'\n",
    "    vdf = pd.DataFrame.from_dict(vels_dict).T\n",
    "    vdf.columns = ['Kernel', 'Centroid']\n",
    "    offset = 0  # flux.median() * .08\n",
    "    if plotit:\n",
    "        ax.label_outer()\n",
    "        ax.set_xlim(-1500, 1500)\n",
    "        #ax.set_ylim(means.max()*-.2e14, means.max()*1.6e14)\n",
    "        scalefactor = np.median(flux)\n",
    "        ax.plot(vels, flux/scalefactor, drawstyle='steps-mid', color='k', lw=.5)\n",
    "        ax.plot(vels, (means-offset)/scalefactor, lw=.8, color='orange',\n",
    "                 label='LLE - CV, '+data.columns.name)\n",
    "        ax.fill_between(vels, (errs)/scalefactor, color='.7', step='mid')\n",
    "        ax.legend(shadow=True, fancybox=True, fontsize=7, loc='upper left')#, mode='expand')\n",
    "        ax.set_xlabel(u'$v - v_0$ [km s⁻¹]')\n",
    "        ax.set_ylabel(u'$I/I_0$ [km s⁻¹]')\n",
    "        ax = prettify(ax)\n",
    "    return mle, means, vdf\n",
    "\n"
   ]
  },
  {
   "cell_type": "code",
   "execution_count": 88,
   "metadata": {
    "collapsed": true
   },
   "outputs": [],
   "source": [
    "plt.fill_between?"
   ]
  },
  {
   "cell_type": "code",
   "execution_count": 114,
   "metadata": {
    "collapsed": false
   },
   "outputs": [
    {
     "name": "stdout",
     "output_type": "stream",
     "text": [
      "Now working on Haro11C\n",
      " \n",
      " Estimating uncertainty... \n",
      " Iteration: 1000\n",
      "\n"
     ]
    },
    {
     "data": {
      "text/html": [
       "<div>\n",
       "<table border=\"1\" class=\"dataframe\">\n",
       "  <thead>\n",
       "    <tr style=\"text-align: right;\">\n",
       "      <th></th>\n",
       "      <th>PeakVelocity</th>\n",
       "      <th>MeanVelocity</th>\n",
       "      <th>Stddev</th>\n",
       "    </tr>\n",
       "  </thead>\n",
       "  <tbody>\n",
       "    <tr>\n",
       "      <th>1</th>\n",
       "      <td>158.624373</td>\n",
       "      <td>158.624373</td>\n",
       "      <td>0.79385</td>\n",
       "    </tr>\n",
       "  </tbody>\n",
       "</table>\n",
       "</div>"
      ],
      "text/plain": [
       "   PeakVelocity  MeanVelocity   Stddev\n",
       "1    158.624373    158.624373  0.79385"
      ]
     },
     "execution_count": 114,
     "metadata": {},
     "output_type": "execute_result"
    }
   ],
   "source": [
    "fig, axes = plt.subplots(1, 1, figsize=(3.5, 3))  # 10 emitters only; 4 absorbers left out.\n",
    "axes = [axes]#.flatten()\n",
    "peak_vels_dict = {} \n",
    "\n",
    "for k, gal in enumerate([1]):\n",
    "    print('Now working on {}'.format(wdict[gal].columns.name))\n",
    "    mle, means, vdf = LyA_vel(wdict, gal, iterations=1000, ax=axes[k])\n",
    "    peak_velocity = vdf.Centroid.mean()\n",
    "    peak_vel_stdd = vdf.Centroid.std()\n",
    "    ax = axes[k]\n",
    "    vels = mle.data[:, 1]\n",
    "    real_vel = vels[means.argmax()]\n",
    "    velsteps = vels.ptp() / (vels.shape[0]-1.)\n",
    "    # peak_vel_stdd = max(velsteps/2., peak_vel_stdd)  # Is this necessary?\n",
    "    peak_vels_dict[gal] = [real_vel, peak_velocity, peak_vel_stdd]\n",
    "PeakVels = pd.DataFrame.from_dict(peak_vels_dict).T\n",
    "PeakVels.columns = ['PeakVelocity', 'MeanVelocity', 'Stddev']\n",
    "fig.subplots_adjust(hspace=.02, wspace=.02)\n",
    "#fig.savefig('LyaPeaks.pdf')\n",
    "PeakVels"
   ]
  },
  {
   "cell_type": "code",
   "execution_count": 113,
   "metadata": {
    "collapsed": false
   },
   "outputs": [
    {
     "data": {
      "text/plain": [
       "<matplotlib.axes._subplots.AxesSubplot at 0x7fbd228ce290>"
      ]
     },
     "execution_count": 113,
     "metadata": {},
     "output_type": "execute_result"
    }
   ],
   "source": [
    "vdf.Centroid.hist()"
   ]
  },
  {
   "cell_type": "code",
   "execution_count": 115,
   "metadata": {
    "collapsed": false
   },
   "outputs": [],
   "source": [
    "PeakVels.to_csv('LyaPeakVels.csv')"
   ]
  },
  {
   "cell_type": "code",
   "execution_count": 116,
   "metadata": {
    "collapsed": false
   },
   "outputs": [
    {
     "data": {
      "text/html": [
       "<div>\n",
       "<table border=\"1\" class=\"dataframe\">\n",
       "  <thead>\n",
       "    <tr style=\"text-align: right;\">\n",
       "      <th></th>\n",
       "      <th>PeakVelocity</th>\n",
       "      <th>MeanVelocity</th>\n",
       "      <th>Stddev</th>\n",
       "    </tr>\n",
       "  </thead>\n",
       "  <tbody>\n",
       "    <tr>\n",
       "      <th>1</th>\n",
       "      <td>158.624373</td>\n",
       "      <td>158.624373</td>\n",
       "      <td>0.79385</td>\n",
       "    </tr>\n",
       "  </tbody>\n",
       "</table>\n",
       "</div>"
      ],
      "text/plain": [
       "   PeakVelocity  MeanVelocity   Stddev\n",
       "1    158.624373    158.624373  0.79385"
      ]
     },
     "execution_count": 116,
     "metadata": {},
     "output_type": "execute_result"
    }
   ],
   "source": [
    "PeakVels = pd.read_csv('LyaPeakVels.csv', index_col=0)\n",
    "PeakVels"
   ]
  },
  {
   "cell_type": "code",
   "execution_count": 118,
   "metadata": {
    "collapsed": false
   },
   "outputs": [],
   "source": [
    "#Velw = pd.DataFrame.from_csv('velwidths.csv')\n",
    "#Velw = pd.DataFrame.from_csv('velsframe.csv')\n",
    "#elw.columns = Velw.columns.map(str.strip)\n",
    "##elw.index = Velw.index.map(lambda x: int(x.split()[-1]))\n",
    "#rint Velw.columns\n",
    "#Velw.columns = Velw.columns.map(\n",
    "#   lambda x: x.replace('/', '').replace('_', ''))\n",
    "#Velw"
   ]
  },
  {
   "cell_type": "markdown",
   "metadata": {},
   "source": [
    "Lyman-$\\alpha$ peak velocity: 158.6 ± 8 km s⁻¹"
   ]
  },
  {
   "cell_type": "code",
   "execution_count": 12,
   "metadata": {
    "collapsed": false
   },
   "outputs": [
    {
     "data": {
      "text/html": [
       "<div style=\"max-height:1000px;max-width:1500px;overflow:auto;\">\n",
       "<table border=\"1\" class=\"dataframe\">\n",
       "  <thead>\n",
       "    <tr style=\"text-align: right;\">\n",
       "      <th></th>\n",
       "      <th>col</th>\n",
       "      <th>sym</th>\n",
       "      <th>sty</th>\n",
       "      <th>siz</th>\n",
       "    </tr>\n",
       "  </thead>\n",
       "  <tbody>\n",
       "    <tr>\n",
       "      <th>1 </th>\n",
       "      <td>      k</td>\n",
       "      <td> s</td>\n",
       "      <td>  -</td>\n",
       "      <td> 10</td>\n",
       "    </tr>\n",
       "    <tr>\n",
       "      <th>2 </th>\n",
       "      <td>      c</td>\n",
       "      <td> s</td>\n",
       "      <td>  -</td>\n",
       "      <td> 10</td>\n",
       "    </tr>\n",
       "    <tr>\n",
       "      <th>3 </th>\n",
       "      <td>      m</td>\n",
       "      <td> s</td>\n",
       "      <td>  -</td>\n",
       "      <td> 10</td>\n",
       "    </tr>\n",
       "    <tr>\n",
       "      <th>4 </th>\n",
       "      <td> orange</td>\n",
       "      <td> s</td>\n",
       "      <td>  -</td>\n",
       "      <td> 10</td>\n",
       "    </tr>\n",
       "    <tr>\n",
       "      <th>5 </th>\n",
       "      <td>      k</td>\n",
       "      <td> o</td>\n",
       "      <td>  -</td>\n",
       "      <td> 11</td>\n",
       "    </tr>\n",
       "    <tr>\n",
       "      <th>6 </th>\n",
       "      <td>      c</td>\n",
       "      <td> o</td>\n",
       "      <td>  -</td>\n",
       "      <td> 11</td>\n",
       "    </tr>\n",
       "    <tr>\n",
       "      <th>7 </th>\n",
       "      <td>      m</td>\n",
       "      <td> o</td>\n",
       "      <td>  -</td>\n",
       "      <td> 11</td>\n",
       "    </tr>\n",
       "    <tr>\n",
       "      <th>8 </th>\n",
       "      <td> orange</td>\n",
       "      <td> o</td>\n",
       "      <td> --</td>\n",
       "      <td> 11</td>\n",
       "    </tr>\n",
       "    <tr>\n",
       "      <th>9 </th>\n",
       "      <td>      k</td>\n",
       "      <td> *</td>\n",
       "      <td> --</td>\n",
       "      <td> 15</td>\n",
       "    </tr>\n",
       "    <tr>\n",
       "      <th>10</th>\n",
       "      <td>      c</td>\n",
       "      <td> *</td>\n",
       "      <td> --</td>\n",
       "      <td> 15</td>\n",
       "    </tr>\n",
       "    <tr>\n",
       "      <th>11</th>\n",
       "      <td>      m</td>\n",
       "      <td> *</td>\n",
       "      <td> --</td>\n",
       "      <td> 15</td>\n",
       "    </tr>\n",
       "    <tr>\n",
       "      <th>12</th>\n",
       "      <td> orange</td>\n",
       "      <td> *</td>\n",
       "      <td> --</td>\n",
       "      <td> 15</td>\n",
       "    </tr>\n",
       "    <tr>\n",
       "      <th>13</th>\n",
       "      <td>      k</td>\n",
       "      <td> ^</td>\n",
       "      <td> --</td>\n",
       "      <td> 10</td>\n",
       "    </tr>\n",
       "    <tr>\n",
       "      <th>14</th>\n",
       "      <td>      c</td>\n",
       "      <td> ^</td>\n",
       "      <td> --</td>\n",
       "      <td> 10</td>\n",
       "    </tr>\n",
       "  </tbody>\n",
       "</table>\n",
       "<p>14 rows × 4 columns</p>\n",
       "</div>"
      ],
      "text/plain": [
       "       col sym sty  siz\n",
       "1        k   s   -   10\n",
       "2        c   s   -   10\n",
       "3        m   s   -   10\n",
       "4   orange   s   -   10\n",
       "5        k   o   -   11\n",
       "6        c   o   -   11\n",
       "7        m   o   -   11\n",
       "8   orange   o  --   11\n",
       "9        k   *  --   15\n",
       "10       c   *  --   15\n",
       "11       m   *  --   15\n",
       "12  orange   *  --   15\n",
       "13       k   ^  --   10\n",
       "14       c   ^  --   10\n",
       "\n",
       "[14 rows x 4 columns]"
      ]
     },
     "execution_count": 12,
     "metadata": {},
     "output_type": "execute_result"
    }
   ],
   "source": [
    "lbrand"
   ]
  },
  {
   "cell_type": "code",
   "execution_count": 13,
   "metadata": {
    "collapsed": false
   },
   "outputs": [
    {
     "name": "stdout",
     "output_type": "stream",
     "text": [
      "Using matplotlib backend: TkAgg\n",
      "Populating the interactive namespace from numpy and matplotlib\n"
     ]
    },
    {
     "name": "stderr",
     "output_type": "stream",
     "text": [
      "WARNING: pylab import has clobbered these variables: ['axes']\n",
      "`%matplotlib` prevents importing * from pylab and numpy\n"
     ]
    }
   ],
   "source": [
    "%pylab"
   ]
  },
  {
   "cell_type": "code",
   "execution_count": 14,
   "metadata": {
    "collapsed": false
   },
   "outputs": [
    {
     "data": {
      "text/html": [
       "<div style=\"max-height:1000px;max-width:1500px;overflow:auto;\">\n",
       "<table border=\"1\" class=\"dataframe\">\n",
       "  <thead>\n",
       "    <tr style=\"text-align: right;\">\n",
       "      <th></th>\n",
       "      <th>vint</th>\n",
       "      <th>vintStd</th>\n",
       "      <th>PeakVelocity</th>\n",
       "    </tr>\n",
       "  </thead>\n",
       "  <tbody>\n",
       "    <tr>\n",
       "      <th>vint</th>\n",
       "      <td> 1.000000</td>\n",
       "      <td> 0.227098</td>\n",
       "      <td> 0.441943</td>\n",
       "    </tr>\n",
       "    <tr>\n",
       "      <th>vintStd</th>\n",
       "      <td> 0.227098</td>\n",
       "      <td> 1.000000</td>\n",
       "      <td> 0.690228</td>\n",
       "    </tr>\n",
       "    <tr>\n",
       "      <th>PeakVelocity</th>\n",
       "      <td> 0.441943</td>\n",
       "      <td> 0.690228</td>\n",
       "      <td> 1.000000</td>\n",
       "    </tr>\n",
       "  </tbody>\n",
       "</table>\n",
       "<p>3 rows × 3 columns</p>\n",
       "</div>"
      ],
      "text/plain": [
       "                  vint   vintStd  PeakVelocity\n",
       "vint          1.000000  0.227098      0.441943\n",
       "vintStd       0.227098  1.000000      0.690228\n",
       "PeakVelocity  0.441943  0.690228      1.000000\n",
       "\n",
       "[3 rows x 3 columns]"
      ]
     },
     "execution_count": 14,
     "metadata": {},
     "output_type": "execute_result"
    }
   ],
   "source": [
    "CorrFrame = pd.concat([Velw.vint, Velw.vintStd, PeakVels.PeakVelocity], axis=1)#, index=Velw.index)\n",
    "CorrFrame.corr()"
   ]
  },
  {
   "cell_type": "code",
   "execution_count": 15,
   "metadata": {
    "collapsed": false
   },
   "outputs": [
    {
     "name": "stdout",
     "output_type": "stream",
     "text": [
      "                            WLS Regression Results                            \n",
      "==============================================================================\n",
      "Dep. Variable:                   vint   R-squared:                       0.086\n",
      "Model:                            WLS   Adj. R-squared:                 -0.028\n",
      "Method:                 Least Squares   F-statistic:                    0.7574\n",
      "Date:                Wed, 26 Nov 2014   Prob (F-statistic):              0.409\n",
      "Time:                        01:13:26   Log-Likelihood:                -55.790\n",
      "No. Observations:                  10   AIC:                             115.6\n",
      "Df Residuals:                       8   BIC:                             116.2\n",
      "Df Model:                           1                                         \n",
      "Covariance Type:            nonrobust                                         \n",
      "================================================================================\n",
      "                   coef    std err          t      P>|t|      [95.0% Conf. Int.]\n",
      "--------------------------------------------------------------------------------\n",
      "const         -140.1760     49.181     -2.850      0.021      -253.588   -26.764\n",
      "PeakVelocity     0.1974      0.227      0.870      0.409        -0.326     0.720\n",
      "==============================================================================\n",
      "Omnibus:                        0.674   Durbin-Watson:                   2.539\n",
      "Prob(Omnibus):                  0.714   Jarque-Bera (JB):                0.553\n",
      "Skew:                          -0.093   Prob(JB):                        0.758\n",
      "Kurtosis:                       1.863   Cond. No.                         539.\n",
      "==============================================================================\n",
      "\n",
      "Warnings:\n",
      "[1] Standard Errors assume that the covariance matrix of the errors is correctly specified.\n"
     ]
    },
    {
     "name": "stderr",
     "output_type": "stream",
     "text": [
      "kurtosistest only valid for n>=20 ... continuing anyway, n=10\n"
     ]
    }
   ],
   "source": [
    "CorrFrame = CorrFrame[CorrFrame.PeakVelocity.notnull()].sort('PeakVelocity')\n",
    "yy = CorrFrame.vint.dropna()\n",
    "xx = CorrFrame.PeakVelocity.dropna()\n",
    "XX = sm.add_constant(xx)\n",
    "weights = 1/CorrFrame.vintStd.dropna()\n",
    "\n",
    "re = sm.WLS(yy, XX, weights=weights).fit()\n",
    "print re.summary()"
   ]
  },
  {
   "cell_type": "code",
   "execution_count": 16,
   "metadata": {
    "collapsed": false
   },
   "outputs": [
    {
     "name": "stdout",
     "output_type": "stream",
     "text": [
      "0.0\n"
     ]
    },
    {
     "data": {
      "text/plain": [
       "[<matplotlib.lines.Line2D at 0x8d13dd0>]"
      ]
     },
     "execution_count": 16,
     "metadata": {},
     "output_type": "execute_result"
    }
   ],
   "source": [
    "st, data, ss2 = summary_table(re, alpha=0.05)\n",
    "exes = data[:,1]\n",
    "fittedvalues = data[:,2]\n",
    "predict_mean_se  = data[:,3]\n",
    "predict_mean_ci_low, predict_mean_ci_upp = data[:,4:6].T\n",
    "predict_ci_low, predict_ci_upp = data[:,6:8].T\n",
    "\n",
    "print max(np.abs(re.fittedvalues - fittedvalues))\n",
    "#print max(np.abs(iv_l - predict_ci_low))\n",
    "#print max(np.abs(iv_u - predict_ci_upp))\n",
    "\n",
    "plot(xx, fittedvalues, 'k--')\n",
    "plot(xx, yy, 'o', lw=2)\n",
    "plot(xx, predict_ci_low, 'r--', lw=2)\n",
    "plot(xx, predict_ci_upp, 'r--', lw=2)\n",
    "plot(xx, predict_mean_ci_low, 'r--', lw=2)\n",
    "plot(xx, predict_mean_ci_upp, 'r--', lw=2)\n",
    "#show()"
   ]
  },
  {
   "cell_type": "code",
   "execution_count": 28,
   "metadata": {
    "collapsed": false
   },
   "outputs": [],
   "source": [
    "import matplotlib.font_manager as fm\n",
    "#plt.rcdefaults()\n",
    "#cf_fonts = {'family': 'serif',}\n",
    "#plt.rc('font', **cf_fonts)\n",
    "#plt.rc('text', usetex=True)\n",
    "i, j = 'vint', 'PeakVelocity'\n",
    "fig = figure(figsize=(3.4, 3.4), dpi=160)\n",
    "for k in lbrand.index:\n",
    "    if k in [6, 9, 10, 11]:\n",
    "        continue\n",
    "    line = lbrand.ix[k].T\n",
    "    thing = Velw.ix[k][i]\n",
    "    gizmo = PeakVels.ix[k][j]\n",
    "    c = line['col']\n",
    "    m = line['sym']\n",
    "    g = line['siz'] * 8\n",
    "    if i in [9, 10, 11, 12]:\n",
    "        g *= 1.3\n",
    "    elif i in [1, 2, 3, 4]:\n",
    "        g /= 1.2\n",
    "    plt.errorbar(-thing, gizmo, xerr=Velw.ix[k][i+'Std'], yerr=PeakVels.Stddev.ix[k], ecolor=c, capthick=1., zorder=0)\n",
    "    scatter(-thing, gizmo, color=c, marker=m, s=g, edgecolor='k', lw=.5, label='{:02d}'.format(k))\n",
    "    \n",
    "axhline(y=0, color='k', linestyle='--', lw=.5, zorder=0)\n",
    "axvline(x=1, color='k', linestyle='--', lw=.5, zorder=0)\n",
    "tick_params(labelsize=9, axis='both', length=2)\n",
    "[j.set_linewidth(.6) for j in gca().spines.itervalues()]\n",
    "#labelsize=9\n",
    "xlabel(r'$\\left|v_{\\rm int}^{\\rm LIS}\\right|$', labelpad=3)#^{Ly\\alpha}$')\n",
    "ylabel(r'$v_{\\rm peak}^{\\rm Ly \\alpha}$')\n",
    "ax = gca()\n",
    "#legend()\n",
    "\n",
    "ax.xaxis.labelpad = 5\n",
    "ax.yaxis.labelpad = 0\n",
    "ax.tick_params(labelsize=8)\n",
    "# Now regression line and confidence bands\n",
    "#ax.plot(xx, fittedvalues, 'k--', lw=.8, zorder=0)\n",
    "#ax.plot(predict_mean_ci_low, xx, '--', lw=.5, color='.3', zorder=0)\n",
    "#ax.plot(predict_mean_ci_upp, xx, '--', lw=.5, color='.3', zorder=0)\n",
    "zz = linspace(-0, 600, 1000)\n",
    "ww = zz * re.params['PeakVelocity'] + re.params['const']\n",
    "ax.plot(-ww, zz, ':', lw=.8, zorder=0, color='.3')\n",
    "#ax.fill_between(xx, predict_mean_ci_low, predict_mean_ci_upp, color='.3', alpha=.25, zorder=0)\n",
    "ax.axis((-150, 350, 0, 600))\n",
    "subplots_adjust(bottom=.12, left=.18,)\n",
    "leg = legend(loc='upper center', scatterpoints=1, markerscale=.7, ncol=5, fontsize=6, \n",
    "             title='LARS ID', fancybox=True, shadow=True).draggable()\n",
    "prop = fm.FontProperties(size=7)\n",
    "tit = leg.legend.get_title()\n",
    "tit.set_fontproperties(prop)\n",
    "leg.legend.get_frame().set_linewidth(0.6)\n",
    "fig.subplots_adjust(bottom=.13, top=.95, left=.155, right=.9)\n",
    "savefig('Paper/Figs/VlyaVint.pdf', facecolor='none', dpi=300)\n",
    "#savefig('/home/trive/Desktop/VlyaVint.pdf', facecolor='none')\n",
    "show()\n",
    "#savefig(savename)\n",
    "#close()"
   ]
  },
  {
   "cell_type": "code",
   "execution_count": null,
   "metadata": {
    "collapsed": false
   },
   "outputs": [],
   "source": []
  },
  {
   "cell_type": "code",
   "execution_count": 69,
   "metadata": {
    "collapsed": false
   },
   "outputs": [
    {
     "data": {
      "text/html": [
       "<div style=\"max-height:1000px;max-width:1500px;overflow:auto;\">\n",
       "<table border=\"1\" class=\"dataframe\">\n",
       "  <thead>\n",
       "    <tr style=\"text-align: right;\">\n",
       "      <th></th>\n",
       "      <th>vint</th>\n",
       "      <th>PeakVelocity</th>\n",
       "    </tr>\n",
       "  </thead>\n",
       "  <tbody>\n",
       "    <tr>\n",
       "      <th>1 </th>\n",
       "      <td>-100</td>\n",
       "      <td> 123.827685</td>\n",
       "    </tr>\n",
       "    <tr>\n",
       "      <th>2 </th>\n",
       "      <td> -48</td>\n",
       "      <td> 149.850253</td>\n",
       "    </tr>\n",
       "    <tr>\n",
       "      <th>3 </th>\n",
       "      <td>-118</td>\n",
       "      <td> 342.855911</td>\n",
       "    </tr>\n",
       "    <tr>\n",
       "      <th>4 </th>\n",
       "      <td> -31</td>\n",
       "      <td> 443.821214</td>\n",
       "    </tr>\n",
       "    <tr>\n",
       "      <th>5 </th>\n",
       "      <td>-139</td>\n",
       "      <td> 165.600560</td>\n",
       "    </tr>\n",
       "    <tr>\n",
       "      <th>6 </th>\n",
       "      <td>  68</td>\n",
       "      <td>        NaN</td>\n",
       "    </tr>\n",
       "    <tr>\n",
       "      <th>7 </th>\n",
       "      <td> -39</td>\n",
       "      <td> 178.075840</td>\n",
       "    </tr>\n",
       "    <tr>\n",
       "      <th>8 </th>\n",
       "      <td>-242</td>\n",
       "      <td> 113.914930</td>\n",
       "    </tr>\n",
       "    <tr>\n",
       "      <th>9 </th>\n",
       "      <td>  40</td>\n",
       "      <td>        NaN</td>\n",
       "    </tr>\n",
       "    <tr>\n",
       "      <th>10</th>\n",
       "      <td> -27</td>\n",
       "      <td>        NaN</td>\n",
       "    </tr>\n",
       "    <tr>\n",
       "      <th>11</th>\n",
       "      <td>-136</td>\n",
       "      <td>        NaN</td>\n",
       "    </tr>\n",
       "    <tr>\n",
       "      <th>12</th>\n",
       "      <td> -10</td>\n",
       "      <td> 406.674280</td>\n",
       "    </tr>\n",
       "    <tr>\n",
       "      <th>13</th>\n",
       "      <td>-106</td>\n",
       "      <td> 274.425730</td>\n",
       "    </tr>\n",
       "    <tr>\n",
       "      <th>14</th>\n",
       "      <td>-229</td>\n",
       "      <td> 253.539995</td>\n",
       "    </tr>\n",
       "  </tbody>\n",
       "</table>\n",
       "</div>"
      ],
      "text/plain": [
       "    vint  PeakVelocity\n",
       "1   -100    123.827685\n",
       "2    -48    149.850253\n",
       "3   -118    342.855911\n",
       "4    -31    443.821214\n",
       "5   -139    165.600560\n",
       "6     68           NaN\n",
       "7    -39    178.075840\n",
       "8   -242    113.914930\n",
       "9     40           NaN\n",
       "10   -27           NaN\n",
       "11  -136           NaN\n",
       "12   -10    406.674280\n",
       "13  -106    274.425730\n",
       "14  -229    253.539995"
      ]
     },
     "execution_count": 69,
     "metadata": {},
     "output_type": "execute_result"
    }
   ],
   "source": [
    "CorrFrame"
   ]
  },
  {
   "cell_type": "code",
   "execution_count": 84,
   "metadata": {
    "collapsed": false
   },
   "outputs": [
    {
     "data": {
      "text/plain": [
       "8     155.822956\n",
       "14    164.384546\n",
       "5     223.657090\n",
       "3     237.487351\n",
       "13    245.390357\n",
       "1     249.341860\n",
       "2     283.588219\n",
       "7     289.515473\n",
       "4     294.784144\n",
       "12    308.614404\n",
       "dtype: float64"
      ]
     },
     "execution_count": 84,
     "metadata": {},
     "output_type": "execute_result"
    }
   ],
   "source": [
    "re.fittedvalues"
   ]
  },
  {
   "cell_type": "code",
   "execution_count": 89,
   "metadata": {
    "collapsed": false
   },
   "outputs": [
    {
     "data": {
      "text/plain": [
       "[<matplotlib.lines.Line2D at 0x7f8fd6cb1850>]"
      ]
     },
     "execution_count": 89,
     "metadata": {},
     "output_type": "execute_result"
    }
   ],
   "source": [
    "CorrFrame.plot('vint', 'PeakVelocity', style='o')\n",
    "zz = linspace(-500, 100, 1000)\n",
    "ww = zz * re.params['vint'] + re.params['const']\n",
    "plot(zz, ww, 'k-')"
   ]
  },
  {
   "cell_type": "code",
   "execution_count": 27,
   "metadata": {
    "collapsed": false
   },
   "outputs": [
    {
     "data": {
      "text/plain": [
       "const    315.200242\n",
       "vint       0.658584\n",
       "dtype: float64"
      ]
     },
     "execution_count": 27,
     "metadata": {},
     "output_type": "execute_result"
    }
   ],
   "source": [
    "re.params"
   ]
  }
 ],
 "metadata": {
  "kernelspec": {
   "display_name": "Python 2",
   "language": "python",
   "name": "python2"
  },
  "language_info": {
   "codemirror_mode": {
    "name": "ipython",
    "version": 2
   },
   "file_extension": ".py",
   "mimetype": "text/x-python",
   "name": "python",
   "nbconvert_exporter": "python",
   "pygments_lexer": "ipython2",
   "version": "2.7.11"
  }
 },
 "nbformat": 4,
 "nbformat_minor": 0
}

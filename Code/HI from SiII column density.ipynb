{
 "cells": [
  {
   "cell_type": "code",
   "execution_count": 2,
   "metadata": {
    "collapsed": true
   },
   "outputs": [],
   "source": [
    "import numpy as np"
   ]
  },
  {
   "cell_type": "code",
   "execution_count": 32,
   "metadata": {
    "collapsed": false
   },
   "outputs": [],
   "source": [
    "NSiII = 10.**12.3  # +/- 0.2 is the observed range from AOD method\n",
    "NSiII += +0.\n",
    "NSiII = 10.**11.\n",
    "NSiIItot = 10.**13.9\n",
    "NSiIImin = 10.**11.2#10.1\n",
    "OHH11B = 10**(8.3-12)       # From Guseva: 12+log(O/H) = 8.3\n",
    "OHH11C = 10**(8.1-12)       # From Guseva: 12+log(O/H) = 8.1\n",
    "OHSol = 10**(8.73-12)        # Solar O/H\n",
    "SiOSB = 10**(-1.59) # -1.59 ± 0.07\n",
    "SiHSol = 10**(7.55-12.)     # From Lequeux 2005"
   ]
  },
  {
   "cell_type": "code",
   "execution_count": 33,
   "metadata": {
    "collapsed": false
   },
   "outputs": [
    {
     "data": {
      "text/plain": [
       "(0.23442288153199178, 0.3715352290971728)"
      ]
     },
     "execution_count": 33,
     "metadata": {},
     "output_type": "execute_result"
    }
   ],
   "source": [
    "OHH11C / OHSol, OHH11B / OHSol"
   ]
  },
  {
   "cell_type": "code",
   "execution_count": 34,
   "metadata": {
    "collapsed": false
   },
   "outputs": [
    {
     "data": {
      "text/plain": [
       "(5.128613839913656e-06, 3.235936569296279e-06)"
      ]
     },
     "execution_count": 34,
     "metadata": {},
     "output_type": "execute_result"
    }
   ],
   "source": [
    "#SiHH11B = SiHSol * OHH11B / OHSol\n",
    "SiHH11B = SiOSB * OHH11B\n",
    "#SiHH11C = SiHSol * OHH11C / OHSol\n",
    "SiHH11C = SiOSB * OHH11C\n",
    "SiHH11tot = SiOSB * OHH11C\n",
    "SiHH11B, SiHH11C"
   ]
  },
  {
   "cell_type": "code",
   "execution_count": 36,
   "metadata": {
    "collapsed": false
   },
   "outputs": [
    {
     "data": {
      "text/plain": [
       "(3.0902954325135936e+16,\n",
       " 1.9498445997580428e+16,\n",
       " 2.4547089156850352e+19,\n",
       " 4.897788193684459e+16)"
      ]
     },
     "execution_count": 36,
     "metadata": {},
     "output_type": "execute_result"
    }
   ],
   "source": [
    "NHIB = NSiII / SiHH11B\n",
    "NHIC = NSiII / SiHH11C\n",
    "NHItot = NSiIItot / SiHH11C\n",
    "NHImin = NSiIImin / SiHH11C\n",
    "NHIC, NHIB, NHItot, NHImin"
   ]
  },
  {
   "cell_type": "code",
   "execution_count": 7,
   "metadata": {
    "collapsed": false
   },
   "outputs": [
    {
     "data": {
      "text/plain": [
       "19.390000000000001"
      ]
     },
     "execution_count": 7,
     "metadata": {},
     "output_type": "execute_result"
    }
   ],
   "source": [
    "np.log10(NHItot)"
   ]
  },
  {
   "cell_type": "code",
   "execution_count": 17,
   "metadata": {
    "collapsed": false
   },
   "outputs": [
    {
     "ename": "NameError",
     "evalue": "name 'np' is not defined",
     "output_type": "error",
     "traceback": [
      "\u001b[0;31m---------------------------------------------------------------------------\u001b[0m",
      "\u001b[0;31mNameError\u001b[0m                                 Traceback (most recent call last)",
      "\u001b[0;32m<ipython-input-17-19dce8dfa0d7>\u001b[0m in \u001b[0;36m<module>\u001b[0;34m()\u001b[0m\n\u001b[0;32m----> 1\u001b[0;31m \u001b[0mnp\u001b[0m\u001b[0;34m.\u001b[0m\u001b[0mlog10\u001b[0m\u001b[0;34m(\u001b[0m\u001b[0mNSiII\u001b[0m\u001b[0;34m)\u001b[0m\u001b[0;34m\u001b[0m\u001b[0m\n\u001b[0m",
      "\u001b[0;31mNameError\u001b[0m: name 'np' is not defined"
     ]
    }
   ],
   "source": [
    "np.log10(NSiII)"
   ]
  },
  {
   "cell_type": "code",
   "execution_count": 8,
   "metadata": {
    "collapsed": false
   },
   "outputs": [
    {
     "data": {
      "text/plain": [
       "0.5790000000000002"
      ]
     },
     "execution_count": 8,
     "metadata": {},
     "output_type": "execute_result"
    }
   ],
   "source": [
    "3.890 - 3.311"
   ]
  },
  {
   "cell_type": "markdown",
   "metadata": {
    "collapsed": true
   },
   "source": [
    "### Values\n",
    "#### Haro 11 C\n",
    "**Si / H**: 2.754e-6, 3.236e-6, 3.802e-6\n",
    "**N_HI**: 7.244e17, 6.166e17, 5.248e17\n",
    "#### Haro 11 B\n",
    "**Si/H**: 4.365e-6, 5.129e-6, 6.026e-6\n",
    "** N_HI**: 4.571e17, 3.890e17, 3.311e17"
   ]
  }
 ],
 "metadata": {
  "anaconda-cloud": {},
  "kernelspec": {
   "display_name": "Python [default]",
   "language": "python",
   "name": "python2"
  },
  "language_info": {
   "codemirror_mode": {
    "name": "ipython",
    "version": 2
   },
   "file_extension": ".py",
   "mimetype": "text/x-python",
   "name": "python",
   "nbconvert_exporter": "python",
   "pygments_lexer": "ipython2",
   "version": "2.7.12"
  }
 },
 "nbformat": 4,
 "nbformat_minor": 0
}

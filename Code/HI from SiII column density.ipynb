{
 "cells": [
  {
   "cell_type": "code",
   "execution_count": 2,
   "metadata": {
    "collapsed": true
   },
   "outputs": [],
   "source": [
    "import numpy as np\n",
    "import uncertainties.unumpy as unp\n",
    "from uncertainties import ufloat as ufl"
   ]
  },
  {
   "cell_type": "code",
   "execution_count": 18,
   "metadata": {
    "collapsed": false
   },
   "outputs": [],
   "source": [
    "NSiII = 10.**12.3  # +/- 0.2 is the observed range from AOD method\n",
    "NSiII += +0.\n",
    "NSiII = 10.**11.\n",
    "NSiIItot = 10.**ufl(13.92, 0.29)  # When all clouds line up and have same size\n",
    "NSiIImean = 10.**ufl(13.52, 0.15) # When each bin's geometric covering is randomly placed\n",
    "NSiIImin = 10.**11.2#10.1\n",
    "OHH11B = 10**(8.3-12)       # From Guseva: 12+log(O/H) = 8.3\n",
    "OHH11C = 10**(ufl(8.1, 0.04)-12)       # From Guseva: 12+log(O/H) = 8.1\n",
    "OHSol = 10**(8.73-12)        # Solar O/H\n",
    "SiOSB = 10**ufl(-1.59, 0.07) # -1.59 ± 0.07\n",
    "SiHSol = 10**(7.55-12.)     # From Lequeux 2005"
   ]
  },
  {
   "cell_type": "code",
   "execution_count": 19,
   "metadata": {
    "collapsed": false
   },
   "outputs": [
    {
     "data": {
      "text/plain": [
       "(0.23442288153199178+/-0.021591145298890942, 0.3715352290971728)"
      ]
     },
     "execution_count": 19,
     "metadata": {},
     "output_type": "execute_result"
    }
   ],
   "source": [
    "OHH11C / OHSol, OHH11B / OHSol"
   ]
  },
  {
   "cell_type": "code",
   "execution_count": 20,
   "metadata": {
    "collapsed": false
   },
   "outputs": [
    {
     "data": {
      "text/plain": [
       "(5.128613839913656e-06+/-8.266348842855696e-07,\n",
       " 3.235936569296279e-06+/-6.007203813522875e-07)"
      ]
     },
     "execution_count": 20,
     "metadata": {},
     "output_type": "execute_result"
    }
   ],
   "source": [
    "#SiHH11B = SiHSol * OHH11B / OHSol\n",
    "SiHH11B = SiOSB * OHH11B\n",
    "#SiHH11C = SiHSol * OHH11C / OHSol\n",
    "SiHH11C = SiOSB * OHH11C\n",
    "SiHH11tot = SiOSB * OHH11C\n",
    "SiHH11B, SiHH11C"
   ]
  },
  {
   "cell_type": "code",
   "execution_count": 21,
   "metadata": {
    "collapsed": false
   },
   "outputs": [
    {
     "data": {
      "text/plain": [
       "(3.0902954325135936e+16+/-5736835104634055.0,\n",
       " 1.9498445997580428e+16+/-3142778176340467.5,\n",
       " 2.5703957827688665e+19+/-1.7814752272481438e+19,\n",
       " 4.897788193684459e+16+/-9092270903606438.0,\n",
       " 1.0232929922807542e+19+/-4.0124966945759923e+18)"
      ]
     },
     "execution_count": 21,
     "metadata": {},
     "output_type": "execute_result"
    }
   ],
   "source": [
    "NHIB = NSiII / SiHH11B\n",
    "NHIC = NSiII / SiHH11C\n",
    "NHItot = NSiIItot / SiHH11C\n",
    "NHImin = NSiIImin / SiHH11C\n",
    "NHImean = NSiIImean / SiHH11C\n",
    "NHIC, NHIB, NHItot, NHImin, NHImean"
   ]
  },
  {
   "cell_type": "code",
   "execution_count": 22,
   "metadata": {
    "collapsed": false
   },
   "outputs": [
    {
     "data": {
      "text/plain": [
       "(array(19.41+/-0.30099833886584815, dtype=object),\n",
       " array(19.01+/-0.17029386365926402, dtype=object))"
      ]
     },
     "execution_count": 22,
     "metadata": {},
     "output_type": "execute_result"
    }
   ],
   "source": [
    "unp.log10(NHItot), unp.log10(NHImean)"
   ]
  },
  {
   "cell_type": "code",
   "execution_count": 32,
   "metadata": {
    "collapsed": false
   },
   "outputs": [
    {
     "data": {
      "text/plain": [
       "64.56542290346566+/-25.317142591452253"
      ]
     },
     "execution_count": 32,
     "metadata": {},
     "output_type": "execute_result"
    }
   ],
   "source": [
    "mintaus = NHImean / 10**17.2\n",
    "mintaus.nominal_value + mintaus.std_dev\n",
    "mintaus"
   ]
  },
  {
   "cell_type": "code",
   "execution_count": 8,
   "metadata": {
    "collapsed": false
   },
   "outputs": [
    {
     "data": {
      "text/plain": [
       "0.5790000000000002"
      ]
     },
     "execution_count": 8,
     "metadata": {},
     "output_type": "execute_result"
    }
   ],
   "source": [
    "3.890 - 3.311"
   ]
  },
  {
   "cell_type": "markdown",
   "metadata": {
    "collapsed": true
   },
   "source": [
    "### Values\n",
    "#### Haro 11 C\n",
    "**Si / H**: 2.754e-6, 3.236e-6, 3.802e-6\n",
    "**N_HI**: 7.244e17, 6.166e17, 5.248e17\n",
    "#### Haro 11 B\n",
    "**Si/H**: 4.365e-6, 5.129e-6, 6.026e-6\n",
    "** N_HI**: 4.571e17, 3.890e17, 3.311e17"
   ]
  }
 ],
 "metadata": {
  "anaconda-cloud": {},
  "kernelspec": {
   "display_name": "Python [default]",
   "language": "python",
   "name": "python2"
  },
  "language_info": {
   "codemirror_mode": {
    "name": "ipython",
    "version": 2
   },
   "file_extension": ".py",
   "mimetype": "text/x-python",
   "name": "python",
   "nbconvert_exporter": "python",
   "pygments_lexer": "ipython2",
   "version": "2.7.12"
  }
 },
 "nbformat": 4,
 "nbformat_minor": 0
}
